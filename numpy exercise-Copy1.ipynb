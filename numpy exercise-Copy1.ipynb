{
 "cells": [
  {
   "cell_type": "markdown",
   "metadata": {},
   "source": [
    "## numpy\n",
    "출처 : https://github.com/rougier/numpy-100/blob/master/100_Numpy_exercises.ipynb"
    "### 아래 연습코드는 위 출처를 참고하였습니다."
   ]
  },
  {
   "cell_type": "code",
   "execution_count": 2,
   "metadata": {},
   "outputs": [],
   "source": [
    "import numpy as np\n",
    "import pandas as pd\n",
    "import csv"
   ]
  },
  {
   "cell_type": "code",
   "execution_count": 8,
   "metadata": {},
   "outputs": [
    {
     "data": {
      "text/plain": [
       "(991529, 9)"
      ]
     },
     "execution_count": 8,
     "metadata": {},
     "output_type": "execute_result"
    }
   ],
   "source": [
    "call.shape"
   ]
  },
  {
   "cell_type": "code",
   "execution_count": 11,
   "metadata": {},
   "outputs": [
    {
     "name": "stdout",
     "output_type": "stream",
     "text": [
      "1.14.3\n"
     ]
    }
   ],
   "source": [
    "print(np.__version__)"
   ]
  },
  {
   "cell_type": "code",
   "execution_count": 12,
   "metadata": {},
   "outputs": [
    {
     "name": "stdout",
     "output_type": "stream",
     "text": [
      "mkl_info:\n",
      "    libraries = ['mkl_rt']\n",
      "    library_dirs = ['C:/Users/SAMSUNG/Anaconda3\\\\Library\\\\lib']\n",
      "    define_macros = [('SCIPY_MKL_H', None), ('HAVE_CBLAS', None)]\n",
      "    include_dirs = ['C:\\\\Program Files (x86)\\\\IntelSWTools\\\\compilers_and_libraries_2016.4.246\\\\windows\\\\mkl', 'C:\\\\Program Files (x86)\\\\IntelSWTools\\\\compilers_and_libraries_2016.4.246\\\\windows\\\\mkl\\\\include', 'C:\\\\Program Files (x86)\\\\IntelSWTools\\\\compilers_and_libraries_2016.4.246\\\\windows\\\\mkl\\\\lib', 'C:/Users/SAMSUNG/Anaconda3\\\\Library\\\\include']\n",
      "blas_mkl_info:\n",
      "    libraries = ['mkl_rt']\n",
      "    library_dirs = ['C:/Users/SAMSUNG/Anaconda3\\\\Library\\\\lib']\n",
      "    define_macros = [('SCIPY_MKL_H', None), ('HAVE_CBLAS', None)]\n",
      "    include_dirs = ['C:\\\\Program Files (x86)\\\\IntelSWTools\\\\compilers_and_libraries_2016.4.246\\\\windows\\\\mkl', 'C:\\\\Program Files (x86)\\\\IntelSWTools\\\\compilers_and_libraries_2016.4.246\\\\windows\\\\mkl\\\\include', 'C:\\\\Program Files (x86)\\\\IntelSWTools\\\\compilers_and_libraries_2016.4.246\\\\windows\\\\mkl\\\\lib', 'C:/Users/SAMSUNG/Anaconda3\\\\Library\\\\include']\n",
      "blas_opt_info:\n",
      "    libraries = ['mkl_rt']\n",
      "    library_dirs = ['C:/Users/SAMSUNG/Anaconda3\\\\Library\\\\lib']\n",
      "    define_macros = [('SCIPY_MKL_H', None), ('HAVE_CBLAS', None)]\n",
      "    include_dirs = ['C:\\\\Program Files (x86)\\\\IntelSWTools\\\\compilers_and_libraries_2016.4.246\\\\windows\\\\mkl', 'C:\\\\Program Files (x86)\\\\IntelSWTools\\\\compilers_and_libraries_2016.4.246\\\\windows\\\\mkl\\\\include', 'C:\\\\Program Files (x86)\\\\IntelSWTools\\\\compilers_and_libraries_2016.4.246\\\\windows\\\\mkl\\\\lib', 'C:/Users/SAMSUNG/Anaconda3\\\\Library\\\\include']\n",
      "lapack_mkl_info:\n",
      "    libraries = ['mkl_rt']\n",
      "    library_dirs = ['C:/Users/SAMSUNG/Anaconda3\\\\Library\\\\lib']\n",
      "    define_macros = [('SCIPY_MKL_H', None), ('HAVE_CBLAS', None)]\n",
      "    include_dirs = ['C:\\\\Program Files (x86)\\\\IntelSWTools\\\\compilers_and_libraries_2016.4.246\\\\windows\\\\mkl', 'C:\\\\Program Files (x86)\\\\IntelSWTools\\\\compilers_and_libraries_2016.4.246\\\\windows\\\\mkl\\\\include', 'C:\\\\Program Files (x86)\\\\IntelSWTools\\\\compilers_and_libraries_2016.4.246\\\\windows\\\\mkl\\\\lib', 'C:/Users/SAMSUNG/Anaconda3\\\\Library\\\\include']\n",
      "lapack_opt_info:\n",
      "    libraries = ['mkl_rt']\n",
      "    library_dirs = ['C:/Users/SAMSUNG/Anaconda3\\\\Library\\\\lib']\n",
      "    define_macros = [('SCIPY_MKL_H', None), ('HAVE_CBLAS', None)]\n",
      "    include_dirs = ['C:\\\\Program Files (x86)\\\\IntelSWTools\\\\compilers_and_libraries_2016.4.246\\\\windows\\\\mkl', 'C:\\\\Program Files (x86)\\\\IntelSWTools\\\\compilers_and_libraries_2016.4.246\\\\windows\\\\mkl\\\\include', 'C:\\\\Program Files (x86)\\\\IntelSWTools\\\\compilers_and_libraries_2016.4.246\\\\windows\\\\mkl\\\\lib', 'C:/Users/SAMSUNG/Anaconda3\\\\Library\\\\include']\n"
     ]
    }
   ],
   "source": [
    "np.show_config()"
   ]
  },
  {
   "cell_type": "code",
   "execution_count": 17,
   "metadata": {},
   "outputs": [
    {
     "data": {
      "text/plain": [
       "array([[0., 0., 0., 0., 0.],\n",
       "       [0., 0., 0., 0., 0.],\n",
       "       [0., 0., 0., 0., 0.],\n",
       "       [0., 0., 0., 0., 0.],\n",
       "       [0., 0., 0., 0., 0.]])"
      ]
     },
     "execution_count": 17,
     "metadata": {},
     "output_type": "execute_result"
    }
   ],
   "source": [
    "Z = np.zeros((5,5))\n",
    "Z"
   ]
  },
  {
   "cell_type": "code",
   "execution_count": 19,
   "metadata": {},
   "outputs": [
    {
     "data": {
      "text/plain": [
       "array([1., 1., 1., 1., 1.])"
      ]
     },
     "execution_count": 19,
     "metadata": {},
     "output_type": "execute_result"
    }
   ],
   "source": [
    "z = np.ones(5)\n",
    "z"
   ]
  },
  {
   "cell_type": "code",
   "execution_count": 30,
   "metadata": {},
   "outputs": [
    {
     "name": "stdout",
     "output_type": "stream",
     "text": [
      "200 bytes\n"
     ]
    }
   ],
   "source": [
    "# print(\"{}bytes\".format(Z.size * Z.itemsize))\n",
    "print('%d bytes'%(Z.size * Z.itemsize ))"
   ]
  },
  {
   "cell_type": "code",
   "execution_count": 21,
   "metadata": {},
   "outputs": [
    {
     "data": {
      "text/plain": [
       "25"
      ]
     },
     "execution_count": 21,
     "metadata": {},
     "output_type": "execute_result"
    }
   ],
   "source": [
    "Z.size"
   ]
  },
  {
   "cell_type": "code",
   "execution_count": 22,
   "metadata": {},
   "outputs": [
    {
     "data": {
      "text/plain": [
       "8"
      ]
     },
     "execution_count": 22,
     "metadata": {},
     "output_type": "execute_result"
    }
   ],
   "source": [
    "#array 각 요소의 byte에서의 사이즈\n",
    "Z.itemsize"
   ]
  },
  {
   "cell_type": "code",
   "execution_count": 23,
   "metadata": {},
   "outputs": [
    {
     "data": {
      "text/plain": [
       "numpy.ndarray"
      ]
     },
     "execution_count": 23,
     "metadata": {},
     "output_type": "execute_result"
    }
   ],
   "source": [
    "type(Z)"
   ]
  },
  {
   "cell_type": "code",
   "execution_count": 28,
   "metadata": {
    "scrolled": true
   },
   "outputs": [
    {
     "data": {
      "text/plain": [
       "(5, 5)"
      ]
     },
     "execution_count": 28,
     "metadata": {},
     "output_type": "execute_result"
    }
   ],
   "source": [
    "Z.shape"
   ]
  },
  {
   "cell_type": "code",
   "execution_count": 32,
   "metadata": {},
   "outputs": [
    {
     "data": {
      "text/plain": [
       "array([[0., 0., 0., 0., 0., 0., 0., 0., 0., 0.],\n",
       "       [0., 0., 0., 0., 0., 0., 0., 0., 0., 0.],\n",
       "       [0., 0., 0., 0., 0., 0., 0., 0., 0., 0.],\n",
       "       [0., 0., 0., 0., 0., 0., 0., 0., 0., 0.],\n",
       "       [0., 0., 0., 0., 0., 0., 0., 0., 0., 0.],\n",
       "       [0., 0., 0., 0., 0., 0., 0., 0., 0., 0.],\n",
       "       [0., 0., 0., 0., 0., 0., 0., 0., 0., 0.],\n",
       "       [0., 0., 0., 0., 0., 0., 0., 0., 0., 0.],\n",
       "       [0., 0., 0., 0., 0., 0., 0., 0., 0., 0.],\n",
       "       [0., 0., 0., 0., 0., 0., 0., 0., 0., 0.]])"
      ]
     },
     "execution_count": 32,
     "metadata": {},
     "output_type": "execute_result"
    }
   ],
   "source": [
    "Z = np.zeros((10,10))\n",
    "Z"
   ]
  },
  {
   "cell_type": "code",
   "execution_count": 41,
   "metadata": {},
   "outputs": [],
   "source": [
    "Z[4:6] = 1"
   ]
  },
  {
   "cell_type": "code",
   "execution_count": 42,
   "metadata": {},
   "outputs": [
    {
     "data": {
      "text/plain": [
       "array([[0., 0., 0., 0., 0., 0., 0., 0., 0., 0.],\n",
       "       [0., 0., 0., 0., 0., 0., 0., 0., 0., 0.],\n",
       "       [0., 0., 0., 0., 0., 0., 0., 0., 0., 0.],\n",
       "       [0., 0., 0., 0., 0., 0., 0., 0., 0., 0.],\n",
       "       [1., 1., 1., 1., 1., 1., 1., 1., 1., 1.],\n",
       "       [1., 1., 1., 1., 1., 1., 1., 1., 1., 1.],\n",
       "       [0., 0., 0., 0., 0., 0., 0., 0., 0., 0.],\n",
       "       [0., 0., 0., 0., 0., 0., 0., 0., 0., 0.],\n",
       "       [0., 0., 0., 0., 0., 0., 0., 0., 0., 0.],\n",
       "       [0., 0., 0., 0., 0., 0., 0., 0., 0., 0.]])"
      ]
     },
     "execution_count": 42,
     "metadata": {},
     "output_type": "execute_result"
    }
   ],
   "source": [
    "Z"
   ]
  },
  {
   "cell_type": "code",
   "execution_count": 43,
   "metadata": {},
   "outputs": [
    {
     "name": "stderr",
     "output_type": "stream",
     "text": [
      "ERROR:root:File `'`python.py'` not found.\n"
     ]
    }
   ],
   "source": [
    "# %run `python -c \"import numpy; numpy.info(numpy.add)\"`\n",
    "# % : magic term"
   ]
  },
  {
   "cell_type": "code",
   "execution_count": 44,
   "metadata": {},
   "outputs": [
    {
     "name": "stdout",
     "output_type": "stream",
     "text": [
      "add(x1, x2, /, out=None, *, where=True, casting='same_kind', order='K', dtype=None, subok=True[, signature, extobj])\n",
      "\n",
      "Add arguments element-wise.\n",
      "\n",
      "Parameters\n",
      "----------\n",
      "x1, x2 : array_like\n",
      "    The arrays to be added.  If ``x1.shape != x2.shape``, they must be\n",
      "    broadcastable to a common shape (which may be the shape of one or\n",
      "    the other).\n",
      "out : ndarray, None, or tuple of ndarray and None, optional\n",
      "    A location into which the result is stored. If provided, it must have\n",
      "    a shape that the inputs broadcast to. If not provided or `None`,\n",
      "    a freshly-allocated array is returned. A tuple (possible only as a\n",
      "    keyword argument) must have length equal to the number of outputs.\n",
      "where : array_like, optional\n",
      "    Values of True indicate to calculate the ufunc at that position, values\n",
      "    of False indicate to leave the value in the output alone.\n",
      "**kwargs\n",
      "    For other keyword-only arguments, see the\n",
      "    :ref:`ufunc docs <ufuncs.kwargs>`.\n",
      "\n",
      "Returns\n",
      "-------\n",
      "add : ndarray or scalar\n",
      "    The sum of `x1` and `x2`, element-wise.  Returns a scalar if\n",
      "    both  `x1` and `x2` are scalars.\n",
      "\n",
      "Notes\n",
      "-----\n",
      "Equivalent to `x1` + `x2` in terms of array broadcasting.\n",
      "\n",
      "Examples\n",
      "--------\n",
      ">>> np.add(1.0, 4.0)\n",
      "5.0\n",
      ">>> x1 = np.arange(9.0).reshape((3, 3))\n",
      ">>> x2 = np.arange(3.0)\n",
      ">>> np.add(x1, x2)\n",
      "array([[  0.,   2.,   4.],\n",
      "       [  3.,   5.,   7.],\n",
      "       [  6.,   8.,  10.]])\n"
     ]
    }
   ],
   "source": [
    "!python -c \"import numpy; numpy.info(numpy.add)\""
   ]
  },
  {
   "cell_type": "code",
   "execution_count": 48,
   "metadata": {},
   "outputs": [
    {
     "name": "stdout",
     "output_type": "stream",
     "text": [
      " eye(N, M=None, k=0, dtype=<class 'float'>, order='C')\n",
      "\n",
      "Return a 2-D array with ones on the diagonal and zeros elsewhere.\n",
      "\n",
      "Parameters\n",
      "----------\n",
      "N : int\n",
      "  Number of rows in the output.\n",
      "M : int, optional\n",
      "  Number of columns in the output. If None, defaults to `N`.\n",
      "k : int, optional\n",
      "  Index of the diagonal: 0 (the default) refers to the main diagonal,\n",
      "  a positive value refers to an upper diagonal, and a negative value\n",
      "  to a lower diagonal.\n",
      "dtype : data-type, optional\n",
      "  Data-type of the returned array.\n",
      "order : {'C', 'F'}, optional\n",
      "    Whether the output should be stored in row-major (C-style) or\n",
      "    column-major (Fortran-style) order in memory.\n",
      "\n",
      "    .. versionadded:: 1.14.0\n",
      "\n",
      "Returns\n",
      "-------\n",
      "I : ndarray of shape (N,M)\n",
      "  An array where all elements are equal to zero, except for the `k`-th\n",
      "  diagonal, whose values are equal to one.\n",
      "\n",
      "See Also\n",
      "--------\n",
      "identity : (almost) equivalent function\n",
      "diag : diagonal 2-D array from a 1-D array specified by the user.\n",
      "\n",
      "Examples\n",
      "--------\n",
      ">>> np.eye(2, dtype=int)\n",
      "array([[1, 0],\n",
      "       [0, 1]])\n",
      ">>> np.eye(3, k=1)\n",
      "array([[ 0.,  1.,  0.],\n",
      "       [ 0.,  0.,  1.],\n",
      "       [ 0.,  0.,  0.]])\n"
     ]
    }
   ],
   "source": [
    "!python -c \"import numpy;numpy.info(numpy.eye)\""
   ]
  },
  {
   "cell_type": "code",
   "execution_count": 49,
   "metadata": {},
   "outputs": [
    {
     "data": {
      "text/plain": [
       "array([[0., 0., 0., 0., 0., 0., 0., 0., 0., 0.],\n",
       "       [0., 0., 0., 0., 0., 0., 0., 0., 0., 0.],\n",
       "       [0., 0., 0., 0., 0., 0., 0., 0., 0., 0.],\n",
       "       [0., 0., 0., 0., 0., 0., 0., 0., 0., 0.],\n",
       "       [1., 1., 1., 1., 1., 1., 1., 1., 1., 1.],\n",
       "       [1., 1., 1., 1., 1., 1., 1., 1., 1., 1.],\n",
       "       [0., 0., 0., 0., 0., 0., 0., 0., 0., 0.],\n",
       "       [0., 0., 0., 0., 0., 0., 0., 0., 0., 0.],\n",
       "       [0., 0., 0., 0., 0., 0., 0., 0., 0., 0.],\n",
       "       [0., 0., 0., 0., 0., 0., 0., 0., 0., 0.]])"
      ]
     },
     "execution_count": 49,
     "metadata": {},
     "output_type": "execute_result"
    }
   ],
   "source": [
    "Z"
   ]
  },
  {
   "cell_type": "code",
   "execution_count": 51,
   "metadata": {},
   "outputs": [
    {
     "data": {
      "text/plain": [
       "array([10, 11, 12, 13, 14, 15, 16, 17, 18, 19, 20, 21, 22, 23, 24, 25, 26,\n",
       "       27, 28, 29, 30, 31, 32, 33, 34, 35, 36, 37, 38, 39, 40, 41, 42, 43,\n",
       "       44, 45, 46, 47, 48, 49])"
      ]
     },
     "execution_count": 51,
     "metadata": {},
     "output_type": "execute_result"
    }
   ],
   "source": [
    "np.arange(10,50)"
   ]
  },
  {
   "cell_type": "code",
   "execution_count": 58,
   "metadata": {},
   "outputs": [
    {
     "data": {
      "text/plain": [
       "array([ 0,  1,  2,  3,  4,  5,  6,  7,  8,  9, 10, 11, 12, 13, 14, 15, 16,\n",
       "       17, 18, 19, 20, 21, 22, 23, 24, 25, 26, 27, 28, 29, 30, 31, 32, 33,\n",
       "       34, 35, 36, 37, 38, 39, 40, 41, 42, 43, 44, 45, 46, 47, 48, 49])"
      ]
     },
     "execution_count": 58,
     "metadata": {},
     "output_type": "execute_result"
    }
   ],
   "source": [
    "Z = np.arange(50)\n",
    "Z"
   ]
  },
  {
   "cell_type": "code",
   "execution_count": 60,
   "metadata": {},
   "outputs": [
    {
     "data": {
      "text/plain": [
       "array([49, 48, 47, 46, 45, 44, 43, 42, 41, 40, 39, 38, 37, 36, 35, 34, 33,\n",
       "       32, 31, 30, 29, 28, 27, 26, 25, 24, 23, 22, 21, 20, 19, 18, 17, 16,\n",
       "       15, 14, 13, 12, 11, 10,  9,  8,  7,  6,  5,  4,  3,  2,  1,  0])"
      ]
     },
     "execution_count": 60,
     "metadata": {},
     "output_type": "execute_result"
    }
   ],
   "source": [
    "#inverse array\n",
    "Z[::-1]"
   ]
  },
  {
   "cell_type": "code",
   "execution_count": 61,
   "metadata": {},
   "outputs": [],
   "source": [
    "Z = [[2,2,2],[3,3,3],[4,4,4]]"
   ]
  },
  {
   "cell_type": "code",
   "execution_count": 62,
   "metadata": {},
   "outputs": [
    {
     "data": {
      "text/plain": [
       "[[2, 2, 2], [3, 3, 3], [4, 4, 4]]"
      ]
     },
     "execution_count": 62,
     "metadata": {},
     "output_type": "execute_result"
    }
   ],
   "source": [
    "Z"
   ]
  },
  {
   "cell_type": "code",
   "execution_count": 64,
   "metadata": {},
   "outputs": [],
   "source": [
    "Z = np.arange(30)"
   ]
  },
  {
   "cell_type": "code",
   "execution_count": 65,
   "metadata": {},
   "outputs": [
    {
     "data": {
      "text/plain": [
       "array([[ 0,  1,  2,  3,  4,  5],\n",
       "       [ 6,  7,  8,  9, 10, 11],\n",
       "       [12, 13, 14, 15, 16, 17],\n",
       "       [18, 19, 20, 21, 22, 23],\n",
       "       [24, 25, 26, 27, 28, 29]])"
      ]
     },
     "execution_count": 65,
     "metadata": {},
     "output_type": "execute_result"
    }
   ],
   "source": [
    "Z.reshape((5,6))"
   ]
  },
  {
   "cell_type": "code",
   "execution_count": 68,
   "metadata": {},
   "outputs": [
    {
     "data": {
      "text/plain": [
       "(array([0, 1, 2, 4], dtype=int64),)"
      ]
     },
     "execution_count": 68,
     "metadata": {},
     "output_type": "execute_result"
    }
   ],
   "source": [
    "#0이 아닌 값들의 index를 반환해주는 함수\n",
    "np.nonzero([1,3,5,0,2,0])"
   ]
  },
  {
   "cell_type": "code",
   "execution_count": 69,
   "metadata": {},
   "outputs": [
    {
     "data": {
      "text/plain": [
       "array([[1., 0., 0., 0., 0.],\n",
       "       [0., 1., 0., 0., 0.],\n",
       "       [0., 0., 1., 0., 0.],\n",
       "       [0., 0., 0., 1., 0.],\n",
       "       [0., 0., 0., 0., 1.]])"
      ]
     },
     "execution_count": 69,
     "metadata": {},
     "output_type": "execute_result"
    }
   ],
   "source": [
    "#identity matrix\n",
    "np.eye(5)"
   ]
  },
  {
   "cell_type": "code",
   "execution_count": 77,
   "metadata": {},
   "outputs": [
    {
     "data": {
      "text/plain": [
       "array([[0.14848997, 0.83755029, 0.65154729, 0.25497945, 0.41403391],\n",
       "       [0.53817364, 0.9896255 , 0.81688203, 0.95664178, 0.37268896],\n",
       "       [0.0492979 , 0.31971506, 0.62071834, 0.55908876, 0.31391824]])"
      ]
     },
     "execution_count": 77,
     "metadata": {},
     "output_type": "execute_result"
    }
   ],
   "source": [
    "np.random.rand(3,5)\n",
    "#rand : 0~1사이의 균일분포\n",
    "# randint :균일분포의 정수 난수"
   ]
  },
  {
   "cell_type": "code",
   "execution_count": 82,
   "metadata": {},
   "outputs": [
    {
     "data": {
      "text/plain": [
       "array([[ 4.71435164e-01, -1.19097569e+00,  1.43270697e+00,\n",
       "        -3.12651896e-01, -7.20588733e-01],\n",
       "       [ 8.87162940e-01,  8.59588414e-01, -6.36523504e-01,\n",
       "         1.56963721e-02, -2.24268495e+00],\n",
       "       [ 1.15003572e+00,  9.91946022e-01,  9.53324128e-01,\n",
       "        -2.02125482e+00, -3.34077366e-01],\n",
       "       [ 2.11836468e-03,  4.05453412e-01,  2.89091941e-01,\n",
       "         1.32115819e+00, -1.54690555e+00],\n",
       "       [-2.02646325e-01, -6.55969344e-01,  1.93421376e-01,\n",
       "         5.53438911e-01,  1.31815155e+00]])"
      ]
     },
     "execution_count": 82,
     "metadata": {},
     "output_type": "execute_result"
    }
   ],
   "source": [
    "# 정규분포 샘플링\n",
    "np.random.seed(1234)\n",
    "np.random.normal(size = (5,5))"
   ]
  },
  {
   "cell_type": "code",
   "execution_count": 85,
   "metadata": {},
   "outputs": [],
   "source": [
    "np.random.seed(1234)\n",
    "arr = np.random.normal(size = (5,5))"
   ]
  },
  {
   "cell_type": "code",
   "execution_count": 86,
   "metadata": {},
   "outputs": [
    {
     "data": {
      "text/plain": [
       "dtype('float64')"
      ]
     },
     "execution_count": 86,
     "metadata": {},
     "output_type": "execute_result"
    }
   ],
   "source": [
    "arr.dtype"
   ]
  },
  {
   "cell_type": "code",
   "execution_count": 87,
   "metadata": {},
   "outputs": [
    {
     "data": {
      "text/plain": [
       "array([[ 0, -1,  1,  0,  0],\n",
       "       [ 0,  0,  0,  0, -2],\n",
       "       [ 1,  0,  0, -2,  0],\n",
       "       [ 0,  0,  0,  1, -1],\n",
       "       [ 0,  0,  0,  0,  1]], dtype=int64)"
      ]
     },
     "execution_count": 87,
     "metadata": {},
     "output_type": "execute_result"
    }
   ],
   "source": [
    "arr.astype(np.int64)"
   ]
  },
  {
   "cell_type": "code",
   "execution_count": 88,
   "metadata": {},
   "outputs": [
    {
     "data": {
      "text/plain": [
       "array([[ 4.71435164e-01, -1.19097569e+00,  1.43270697e+00,\n",
       "        -3.12651896e-01, -7.20588733e-01],\n",
       "       [ 8.87162940e-01,  8.59588414e-01, -6.36523504e-01,\n",
       "         1.56963721e-02, -2.24268495e+00],\n",
       "       [ 1.15003572e+00,  9.91946022e-01,  9.53324128e-01,\n",
       "        -2.02125482e+00, -3.34077366e-01],\n",
       "       [ 2.11836468e-03,  4.05453412e-01,  2.89091941e-01,\n",
       "         1.32115819e+00, -1.54690555e+00],\n",
       "       [-2.02646325e-01, -6.55969344e-01,  1.93421376e-01,\n",
       "         5.53438911e-01,  1.31815155e+00]])"
      ]
     },
     "execution_count": 88,
     "metadata": {},
     "output_type": "execute_result"
    }
   ],
   "source": [
    "arr"
   ]
  },
  {
   "cell_type": "code",
   "execution_count": 90,
   "metadata": {},
   "outputs": [],
   "source": [
    "arr = np.random.random((5,5))"
   ]
  },
  {
   "cell_type": "code",
   "execution_count": 91,
   "metadata": {},
   "outputs": [
    {
     "data": {
      "text/plain": [
       "array([[0.31683612, 0.56809865, 0.86912739, 0.43617342, 0.80214764],\n",
       "       [0.14376682, 0.70426097, 0.70458131, 0.21879211, 0.92486763],\n",
       "       [0.44214076, 0.90931596, 0.05980922, 0.18428708, 0.04735528],\n",
       "       [0.67488094, 0.59462478, 0.53331016, 0.04332406, 0.56143308],\n",
       "       [0.32966845, 0.50296683, 0.11189432, 0.60719371, 0.56594464]])"
      ]
     },
     "execution_count": 91,
     "metadata": {},
     "output_type": "execute_result"
    }
   ],
   "source": [
    "arr"
   ]
  },
  {
   "cell_type": "code",
   "execution_count": 95,
   "metadata": {},
   "outputs": [],
   "source": [
    "arr = arr.round(4)"
   ]
  },
  {
   "cell_type": "code",
   "execution_count": 96,
   "metadata": {},
   "outputs": [
    {
     "data": {
      "text/plain": [
       "array([[0.3168, 0.5681, 0.8691, 0.4362, 0.8021],\n",
       "       [0.1438, 0.7043, 0.7046, 0.2188, 0.9249],\n",
       "       [0.4421, 0.9093, 0.0598, 0.1843, 0.0474],\n",
       "       [0.6749, 0.5946, 0.5333, 0.0433, 0.5614],\n",
       "       [0.3297, 0.503 , 0.1119, 0.6072, 0.5659]])"
      ]
     },
     "execution_count": 96,
     "metadata": {},
     "output_type": "execute_result"
    }
   ],
   "source": [
    "arr"
   ]
  },
  {
   "cell_type": "code",
   "execution_count": 99,
   "metadata": {},
   "outputs": [
    {
     "data": {
      "text/plain": [
       "(0.0433, 0.9249)"
      ]
     },
     "execution_count": 99,
     "metadata": {},
     "output_type": "execute_result"
    }
   ],
   "source": [
    "arr.min(),arr.max()"
   ]
  },
  {
   "cell_type": "code",
   "execution_count": 105,
   "metadata": {},
   "outputs": [
    {
     "data": {
      "text/plain": [
       "array([[1., 1., 1., 1., 1.],\n",
       "       [1., 1., 1., 1., 1.],\n",
       "       [1., 1., 1., 1., 1.],\n",
       "       [1., 1., 1., 1., 1.],\n",
       "       [1., 1., 1., 1., 1.]])"
      ]
     },
     "execution_count": 105,
     "metadata": {},
     "output_type": "execute_result"
    }
   ],
   "source": [
    "Z = np.ones((5,5))\n",
    "Z"
   ]
  },
  {
   "cell_type": "code",
   "execution_count": 104,
   "metadata": {},
   "outputs": [],
   "source": [
    "Z[1:-1,1:-1] = 0"
   ]
  },
  {
   "cell_type": "code",
   "execution_count": 108,
   "metadata": {},
   "outputs": [
    {
     "data": {
      "text/plain": [
       "array([[1., 1., 1., 1., 1.],\n",
       "       [1., 0., 0., 0., 1.],\n",
       "       [1., 0., 0., 0., 1.],\n",
       "       [1., 0., 0., 0., 1.],\n",
       "       [1., 1., 1., 1., 1.]])"
      ]
     },
     "execution_count": 108,
     "metadata": {},
     "output_type": "execute_result"
    }
   ],
   "source": [
    "Z"
   ]
  },
  {
   "cell_type": "code",
   "execution_count": 110,
   "metadata": {},
   "outputs": [
    {
     "data": {
      "text/plain": [
       "array([[1., 1., 1., 1., 1.],\n",
       "       [1., 1., 1., 1., 1.],\n",
       "       [1., 1., 1., 1., 1.],\n",
       "       [1., 1., 1., 1., 1.],\n",
       "       [1., 1., 1., 1., 1.]])"
      ]
     },
     "execution_count": 110,
     "metadata": {},
     "output_type": "execute_result"
    }
   ],
   "source": [
    "Z = np.ones((5,5))\n",
    "Z"
   ]
  },
  {
   "cell_type": "code",
   "execution_count": 115,
   "metadata": {},
   "outputs": [
    {
     "ename": "TypeError",
     "evalue": "pad() missing 1 required positional argument: 'mode'",
     "output_type": "error",
     "traceback": [
      "\u001b[1;31m---------------------------------------------------------------------------\u001b[0m",
      "\u001b[1;31mTypeError\u001b[0m                                 Traceback (most recent call last)",
      "\u001b[1;32m<ipython-input-115-3bb286cc9875>\u001b[0m in \u001b[0;36m<module>\u001b[1;34m()\u001b[0m\n\u001b[1;32m----> 1\u001b[1;33m \u001b[0mnp\u001b[0m\u001b[1;33m.\u001b[0m\u001b[0mpad\u001b[0m\u001b[1;33m(\u001b[0m\u001b[0mZ\u001b[0m\u001b[1;33m,\u001b[0m\u001b[0mpad_width\u001b[0m \u001b[1;33m=\u001b[0m \u001b[1;36m1\u001b[0m\u001b[1;33m,\u001b[0m \u001b[0mconstant_values\u001b[0m \u001b[1;33m=\u001b[0m \u001b[1;36m0\u001b[0m\u001b[1;33m)\u001b[0m\u001b[1;33m\u001b[0m\u001b[0m\n\u001b[0m",
      "\u001b[1;31mTypeError\u001b[0m: pad() missing 1 required positional argument: 'mode'"
     ]
    }
   ],
   "source": [
    "np.pad(Z,pad_width = 1, constant_values = 0)"
   ]
  },
  {
   "cell_type": "code",
   "execution_count": 112,
   "metadata": {},
   "outputs": [
    {
     "name": "stdout",
     "output_type": "stream",
     "text": [
      " pad(array, pad_width, mode, **kwargs)\n",
      "\n",
      "Pads an array.\n",
      "\n",
      "Parameters\n",
      "----------\n",
      "array : array_like of rank N\n",
      "    Input array\n",
      "pad_width : {sequence, array_like, int}\n",
      "    Number of values padded to the edges of each axis.\n",
      "    ((before_1, after_1), ... (before_N, after_N)) unique pad widths\n",
      "    for each axis.\n",
      "    ((before, after),) yields same before and after pad for each axis.\n",
      "    (pad,) or int is a shortcut for before = after = pad width for all\n",
      "    axes.\n",
      "mode : str or function\n",
      "    One of the following string values or a user supplied function.\n",
      "\n",
      "    'constant'\n",
      "        Pads with a constant value.\n",
      "    'edge'\n",
      "        Pads with the edge values of array.\n",
      "    'linear_ramp'\n",
      "        Pads with the linear ramp between end_value and the\n",
      "        array edge value.\n",
      "    'maximum'\n",
      "        Pads with the maximum value of all or part of the\n",
      "        vector along each axis.\n",
      "    'mean'\n",
      "        Pads with the mean value of all or part of the\n",
      "        vector along each axis.\n",
      "    'median'\n",
      "        Pads with the median value of all or part of the\n",
      "        vector along each axis.\n",
      "    'minimum'\n",
      "        Pads with the minimum value of all or part of the\n",
      "        vector along each axis.\n",
      "    'reflect'\n",
      "        Pads with the reflection of the vector mirrored on\n",
      "        the first and last values of the vector along each\n",
      "        axis.\n",
      "    'symmetric'\n",
      "        Pads with the reflection of the vector mirrored\n",
      "        along the edge of the array.\n",
      "    'wrap'\n",
      "        Pads with the wrap of the vector along the axis.\n",
      "        The first values are used to pad the end and the\n",
      "        end values are used to pad the beginning.\n",
      "    <function>\n",
      "        Padding function, see Notes.\n",
      "stat_length : sequence or int, optional\n",
      "    Used in 'maximum', 'mean', 'median', and 'minimum'.  Number of\n",
      "    values at edge of each axis used to calculate the statistic value.\n",
      "\n",
      "    ((before_1, after_1), ... (before_N, after_N)) unique statistic\n",
      "    lengths for each axis.\n",
      "\n",
      "    ((before, after),) yields same before and after statistic lengths\n",
      "    for each axis.\n",
      "\n",
      "    (stat_length,) or int is a shortcut for before = after = statistic\n",
      "    length for all axes.\n",
      "\n",
      "    Default is ``None``, to use the entire axis.\n",
      "constant_values : sequence or int, optional\n",
      "    Used in 'constant'.  The values to set the padded values for each\n",
      "    axis.\n",
      "\n",
      "    ((before_1, after_1), ... (before_N, after_N)) unique pad constants\n",
      "    for each axis.\n",
      "\n",
      "    ((before, after),) yields same before and after constants for each\n",
      "    axis.\n",
      "\n",
      "    (constant,) or int is a shortcut for before = after = constant for\n",
      "    all axes.\n",
      "\n",
      "    Default is 0.\n",
      "end_values : sequence or int, optional\n",
      "    Used in 'linear_ramp'.  The values used for the ending value of the\n",
      "    linear_ramp and that will form the edge of the padded array.\n",
      "\n",
      "    ((before_1, after_1), ... (before_N, after_N)) unique end values\n",
      "    for each axis.\n",
      "\n",
      "    ((before, after),) yields same before and after end values for each\n",
      "    axis.\n",
      "\n",
      "    (constant,) or int is a shortcut for before = after = end value for\n",
      "    all axes.\n",
      "\n",
      "    Default is 0.\n",
      "reflect_type : {'even', 'odd'}, optional\n",
      "    Used in 'reflect', and 'symmetric'.  The 'even' style is the\n",
      "    default with an unaltered reflection around the edge value.  For\n",
      "    the 'odd' style, the extented part of the array is created by\n",
      "    subtracting the reflected values from two times the edge value.\n",
      "\n",
      "Returns\n",
      "-------\n",
      "pad : ndarray\n",
      "    Padded array of rank equal to `array` with shape increased\n",
      "    according to `pad_width`.\n",
      "\n",
      "Notes\n",
      "-----\n",
      ".. versionadded:: 1.7.0\n",
      "\n",
      "For an array with rank greater than 1, some of the padding of later\n",
      "axes is calculated from padding of previous axes.  This is easiest to\n",
      "think about with a rank 2 array where the corners of the padded array\n",
      "are calculated by using padded values from the first axis.\n",
      "\n",
      "The padding function, if used, should return a rank 1 array equal in\n",
      "length to the vector argument with padded values replaced. It has the\n",
      "following signature::\n",
      "\n",
      "    padding_func(vector, iaxis_pad_width, iaxis, kwargs)\n",
      "\n",
      "where\n",
      "\n",
      "    vector : ndarray\n",
      "        A rank 1 array already padded with zeros.  Padded values are\n",
      "        vector[:pad_tuple[0]] and vector[-pad_tuple[1]:].\n",
      "    iaxis_pad_width : tuple\n",
      "        A 2-tuple of ints, iaxis_pad_width[0] represents the number of\n",
      "        values padded at the beginning of vector where\n",
      "        iaxis_pad_width[1] represents the number of values padded at\n",
      "        the end of vector.\n",
      "    iaxis : int\n",
      "        The axis currently being calculated.\n",
      "    kwargs : dict\n",
      "        Any keyword arguments the function requires.\n",
      "\n",
      "Examples\n",
      "--------\n",
      ">>> a = [1, 2, 3, 4, 5]\n",
      ">>> np.pad(a, (2,3), 'constant', constant_values=(4, 6))\n",
      "array([4, 4, 1, 2, 3, 4, 5, 6, 6, 6])\n",
      "\n",
      ">>> np.pad(a, (2, 3), 'edge')\n",
      "array([1, 1, 1, 2, 3, 4, 5, 5, 5, 5])\n",
      "\n",
      ">>> np.pad(a, (2, 3), 'linear_ramp', end_values=(5, -4))\n",
      "array([ 5,  3,  1,  2,  3,  4,  5,  2, -1, -4])\n",
      "\n",
      ">>> np.pad(a, (2,), 'maximum')\n",
      "array([5, 5, 1, 2, 3, 4, 5, 5, 5])\n",
      "\n",
      ">>> np.pad(a, (2,), 'mean')\n",
      "array([3, 3, 1, 2, 3, 4, 5, 3, 3])\n",
      "\n",
      ">>> np.pad(a, (2,), 'median')\n",
      "array([3, 3, 1, 2, 3, 4, 5, 3, 3])\n",
      "\n",
      ">>> a = [[1, 2], [3, 4]]\n",
      ">>> np.pad(a, ((3, 2), (2, 3)), 'minimum')\n",
      "array([[1, 1, 1, 2, 1, 1, 1],\n",
      "       [1, 1, 1, 2, 1, 1, 1],\n",
      "       [1, 1, 1, 2, 1, 1, 1],\n",
      "       [1, 1, 1, 2, 1, 1, 1],\n",
      "       [3, 3, 3, 4, 3, 3, 3],\n",
      "       [1, 1, 1, 2, 1, 1, 1],\n",
      "       [1, 1, 1, 2, 1, 1, 1]])\n",
      "\n",
      ">>> a = [1, 2, 3, 4, 5]\n",
      ">>> np.pad(a, (2, 3), 'reflect')\n",
      "array([3, 2, 1, 2, 3, 4, 5, 4, 3, 2])\n",
      "\n",
      ">>> np.pad(a, (2, 3), 'reflect', reflect_type='odd')\n",
      "array([-1,  0,  1,  2,  3,  4,  5,  6,  7,  8])\n",
      "\n",
      ">>> np.pad(a, (2, 3), 'symmetric')\n",
      "array([2, 1, 1, 2, 3, 4, 5, 5, 4, 3])\n",
      "\n",
      ">>> np.pad(a, (2, 3), 'symmetric', reflect_type='odd')\n",
      "array([0, 1, 1, 2, 3, 4, 5, 5, 6, 7])\n",
      "\n",
      ">>> np.pad(a, (2, 3), 'wrap')\n",
      "array([4, 5, 1, 2, 3, 4, 5, 1, 2, 3])\n",
      "\n",
      ">>> def pad_with(vector, pad_width, iaxis, kwargs):\n",
      "...     pad_value = kwargs.get('padder', 10)\n",
      "...     vector[:pad_width[0]] = pad_value\n",
      "...     vector[-pad_width[1]:] = pad_value\n",
      "...     return vector\n",
      ">>> a = np.arange(6)\n",
      ">>> a = a.reshape((2, 3))\n",
      ">>> np.pad(a, 2, pad_with)\n",
      "array([[10, 10, 10, 10, 10, 10, 10],\n",
      "       [10, 10, 10, 10, 10, 10, 10],\n",
      "       [10, 10,  0,  1,  2, 10, 10],\n",
      "       [10, 10,  3,  4,  5, 10, 10],\n",
      "       [10, 10, 10, 10, 10, 10, 10],\n",
      "       [10, 10, 10, 10, 10, 10, 10]])\n",
      ">>> np.pad(a, 2, pad_with, padder=100)\n",
      "array([[100, 100, 100, 100, 100, 100, 100],\n",
      "       [100, 100, 100, 100, 100, 100, 100],\n",
      "       [100, 100,   0,   1,   2, 100, 100],\n",
      "       [100, 100,   3,   4,   5, 100, 100],\n",
      "       [100, 100, 100, 100, 100, 100, 100],\n",
      "       [100, 100, 100, 100, 100, 100, 100]])\n"
     ]
    }
   ],
   "source": [
    "!python -c \"import numpy; numpy.info(numpy.pad)\""
   ]
  },
  {
   "cell_type": "code",
   "execution_count": 113,
   "metadata": {},
   "outputs": [],
   "source": [
    "?numpy.pad"
   ]
  },
  {
   "cell_type": "code",
   "execution_count": 117,
   "metadata": {},
   "outputs": [
    {
     "data": {
      "text/plain": [
       "nan"
      ]
     },
     "execution_count": 117,
     "metadata": {},
     "output_type": "execute_result"
    }
   ],
   "source": [
    "0 * np.nan"
   ]
  },
  {
   "cell_type": "code",
   "execution_count": 119,
   "metadata": {},
   "outputs": [
    {
     "name": "stdout",
     "output_type": "stream",
     "text": [
      "False\n"
     ]
    }
   ],
   "source": [
    "print(np.nan == np.nan)"
   ]
  },
  {
   "cell_type": "code",
   "execution_count": 120,
   "metadata": {},
   "outputs": [
    {
     "data": {
      "text/plain": [
       "False"
      ]
     },
     "execution_count": 120,
     "metadata": {},
     "output_type": "execute_result"
    }
   ],
   "source": [
    "np.inf > np.nan"
   ]
  },
  {
   "cell_type": "code",
   "execution_count": 121,
   "metadata": {},
   "outputs": [
    {
     "data": {
      "text/plain": [
       "nan"
      ]
     },
     "execution_count": 121,
     "metadata": {},
     "output_type": "execute_result"
    }
   ],
   "source": [
    "np.nan -np.nan"
   ]
  },
  {
   "cell_type": "code",
   "execution_count": 122,
   "metadata": {},
   "outputs": [
    {
     "data": {
      "text/plain": [
       "True"
      ]
     },
     "execution_count": 122,
     "metadata": {},
     "output_type": "execute_result"
    }
   ],
   "source": [
    "np.nan in set([np.nan])"
   ]
  },
  {
   "cell_type": "code",
   "execution_count": 123,
   "metadata": {},
   "outputs": [
    {
     "data": {
      "text/plain": [
       "False"
      ]
     },
     "execution_count": 123,
     "metadata": {},
     "output_type": "execute_result"
    }
   ],
   "source": [
    "3 == 3 * 0.1"
   ]
  },
  {
   "cell_type": "code",
   "execution_count": 125,
   "metadata": {},
   "outputs": [
    {
     "data": {
      "text/plain": [
       "float"
      ]
     },
     "execution_count": 125,
     "metadata": {},
     "output_type": "execute_result"
    }
   ],
   "source": [
    "type(3*0.1)"
   ]
  },
  {
   "cell_type": "code",
   "execution_count": 126,
   "metadata": {},
   "outputs": [
    {
     "data": {
      "text/plain": [
       "int"
      ]
     },
     "execution_count": 126,
     "metadata": {},
     "output_type": "execute_result"
    }
   ],
   "source": [
    "type(3)"
   ]
  },
  {
   "cell_type": "code",
   "execution_count": 127,
   "metadata": {},
   "outputs": [
    {
     "data": {
      "text/plain": [
       "array([[1., 0., 0., 0., 0., 0., 0., 0.],\n",
       "       [0., 1., 0., 0., 0., 0., 0., 0.],\n",
       "       [0., 0., 1., 0., 0., 0., 0., 0.],\n",
       "       [0., 0., 0., 1., 0., 0., 0., 0.],\n",
       "       [0., 0., 0., 0., 1., 0., 0., 0.],\n",
       "       [0., 0., 0., 0., 0., 1., 0., 0.],\n",
       "       [0., 0., 0., 0., 0., 0., 1., 0.],\n",
       "       [0., 0., 0., 0., 0., 0., 0., 1.]])"
      ]
     },
     "execution_count": 127,
     "metadata": {},
     "output_type": "execute_result"
    }
   ],
   "source": [
    "#diagnoal matrix\n",
    "np.eye(8)"
   ]
  },
  {
   "cell_type": "code",
   "execution_count": 128,
   "metadata": {},
   "outputs": [
    {
     "data": {
      "text/plain": [
       "array([[1, 0, 0, 0],\n",
       "       [0, 2, 0, 0],\n",
       "       [0, 0, 3, 0],\n",
       "       [0, 0, 0, 4]])"
      ]
     },
     "execution_count": 128,
     "metadata": {},
     "output_type": "execute_result"
    }
   ],
   "source": [
    "np.diag(np.arange(4)+1)"
   ]
  },
  {
   "cell_type": "code",
   "execution_count": 134,
   "metadata": {},
   "outputs": [
    {
     "data": {
      "text/plain": [
       "array([[0, 1, 0, 0, 0],\n",
       "       [0, 0, 2, 0, 0],\n",
       "       [0, 0, 0, 3, 0],\n",
       "       [0, 0, 0, 0, 4],\n",
       "       [0, 0, 0, 0, 0]])"
      ]
     },
     "execution_count": 134,
     "metadata": {},
     "output_type": "execute_result"
    }
   ],
   "source": [
    "np.diag(np.arange(4)+1,k = 1)\n",
    "#above the main diagonal"
   ]
  },
  {
   "cell_type": "code",
   "execution_count": 133,
   "metadata": {},
   "outputs": [
    {
     "data": {
      "text/plain": [
       "array([[0, 0, 0, 0, 0],\n",
       "       [1, 0, 0, 0, 0],\n",
       "       [0, 2, 0, 0, 0],\n",
       "       [0, 0, 3, 0, 0],\n",
       "       [0, 0, 0, 4, 0]])"
      ]
     },
     "execution_count": 133,
     "metadata": {},
     "output_type": "execute_result"
    }
   ],
   "source": [
    "np.diag(np.arange(4)+1, k=-1)\n",
    "#below the main diagonal"
   ]
  },
  {
   "cell_type": "code",
   "execution_count": 132,
   "metadata": {},
   "outputs": [
    {
     "name": "stdout",
     "output_type": "stream",
     "text": [
      " diag(v, k=0)\n",
      "\n",
      "Extract a diagonal or construct a diagonal array.\n",
      "\n",
      "See the more detailed documentation for ``numpy.diagonal`` if you use this\n",
      "function to extract a diagonal and wish to write to the resulting array;\n",
      "whether it returns a copy or a view depends on what version of numpy you\n",
      "are using.\n",
      "\n",
      "Parameters\n",
      "----------\n",
      "v : array_like\n",
      "    If `v` is a 2-D array, return a copy of its `k`-th diagonal.\n",
      "    If `v` is a 1-D array, return a 2-D array with `v` on the `k`-th\n",
      "    diagonal.\n",
      "k : int, optional\n",
      "    Diagonal in question. The default is 0. Use `k>0` for diagonals\n",
      "    above the main diagonal, and `k<0` for diagonals below the main\n",
      "    diagonal.\n",
      "\n",
      "Returns\n",
      "-------\n",
      "out : ndarray\n",
      "    The extracted diagonal or constructed diagonal array.\n",
      "\n",
      "See Also\n",
      "--------\n",
      "diagonal : Return specified diagonals.\n",
      "diagflat : Create a 2-D array with the flattened input as a diagonal.\n",
      "trace : Sum along diagonals.\n",
      "triu : Upper triangle of an array.\n",
      "tril : Lower triangle of an array.\n",
      "\n",
      "Examples\n",
      "--------\n",
      ">>> x = np.arange(9).reshape((3,3))\n",
      ">>> x\n",
      "array([[0, 1, 2],\n",
      "       [3, 4, 5],\n",
      "       [6, 7, 8]])\n",
      "\n",
      ">>> np.diag(x)\n",
      "array([0, 4, 8])\n",
      ">>> np.diag(x, k=1)\n",
      "array([1, 5])\n",
      ">>> np.diag(x, k=-1)\n",
      "array([3, 7])\n",
      "\n",
      ">>> np.diag(np.diag(x))\n",
      "array([[0, 0, 0],\n",
      "       [0, 4, 0],\n",
      "       [0, 0, 8]])\n"
     ]
    }
   ],
   "source": [
    "!python -c \"import numpy; numpy.info(numpy.diag)\""
   ]
  },
  {
   "cell_type": "markdown",
   "metadata": {},
   "source": [
    "I do not know what it means\n",
    "<br> 19. Create a 8x8 matrix and fill it with a checkerboard pattern (★☆☆)"
   ]
  },
  {
   "cell_type": "code",
   "execution_count": 4,
   "metadata": {},
   "outputs": [],
   "source": [
    "Z = np.zeros((5,5))"
   ]
  },
  {
   "cell_type": "code",
   "execution_count": 6,
   "metadata": {},
   "outputs": [
    {
     "data": {
      "text/plain": [
       "dtype('float64')"
      ]
     },
     "execution_count": 6,
     "metadata": {},
     "output_type": "execute_result"
    }
   ],
   "source": [
    "Z.dtype"
   ]
  },
  {
   "cell_type": "code",
   "execution_count": 7,
   "metadata": {},
   "outputs": [
    {
     "data": {
      "text/plain": [
       "array([[0., 0., 0., 0., 0.],\n",
       "       [1., 0., 1., 0., 1.],\n",
       "       [0., 0., 0., 0., 0.],\n",
       "       [1., 0., 1., 0., 1.],\n",
       "       [0., 0., 0., 0., 0.]])"
      ]
     },
     "execution_count": 7,
     "metadata": {},
     "output_type": "execute_result"
    }
   ],
   "source": [
    "Z[1::2,::2] =1\n",
    "Z"
   ]
  },
  {
   "cell_type": "code",
   "execution_count": 15,
   "metadata": {},
   "outputs": [
    {
     "data": {
      "text/plain": [
       "array([[0., 1., 0., 1., 0.],\n",
       "       [0., 0., 0., 0., 0.],\n",
       "       [0., 1., 0., 1., 0.],\n",
       "       [0., 0., 0., 0., 0.],\n",
       "       [0., 1., 0., 1., 0.]])"
      ]
     },
     "execution_count": 15,
     "metadata": {},
     "output_type": "execute_result"
    }
   ],
   "source": [
    "Z = np.zeros((5,5))\n",
    "Z[::2,1::2] = 1\n",
    "Z"
   ]
  },
  {
   "cell_type": "code",
   "execution_count": 10,
   "metadata": {
    "scrolled": true
   },
   "outputs": [
    {
     "data": {
      "text/plain": [
       "array([[0., 0., 0., 0., 0.],\n",
       "       [1., 1., 1., 1., 1.],\n",
       "       [0., 0., 0., 0., 0.],\n",
       "       [1., 1., 1., 1., 1.],\n",
       "       [0., 0., 0., 0., 0.]])"
      ]
     },
     "execution_count": 10,
     "metadata": {},
     "output_type": "execute_result"
    }
   ],
   "source": [
    "Z[1::2,]=1\n",
    "Z"
   ]
  },
  {
   "cell_type": "code",
   "execution_count": 13,
   "metadata": {
    "scrolled": false
   },
   "outputs": [
    {
     "data": {
      "text/plain": [
       "array([[0., 0., 0., 0., 0.],\n",
       "       [2., 0., 2., 0., 2.],\n",
       "       [2., 0., 2., 0., 2.],\n",
       "       [2., 0., 2., 0., 2.],\n",
       "       [2., 0., 2., 0., 2.]])"
      ]
     },
     "execution_count": 13,
     "metadata": {},
     "output_type": "execute_result"
    }
   ],
   "source": [
    "Z[1:,::2 ] = 2\n",
    "Z"
   ]
  },
  {
   "cell_type": "code",
   "execution_count": 17,
   "metadata": {},
   "outputs": [
    {
     "data": {
      "text/plain": [
       "(1, 5, 4)"
      ]
     },
     "execution_count": 17,
     "metadata": {},
     "output_type": "execute_result"
    }
   ],
   "source": [
    "np.unravel_index(100,(6,7,8)) #???????????"
   ]
  },
  {
   "cell_type": "code",
   "execution_count": 19,
   "metadata": {},
   "outputs": [
    {
     "data": {
      "text/plain": [
       "array([[1, 2, 3],\n",
       "       [4, 3, 1]])"
      ]
     },
     "execution_count": 19,
     "metadata": {},
     "output_type": "execute_result"
    }
   ],
   "source": [
    "a = np.array([[1,2,3],[4,3,1]]) \n",
    "a"
   ]
  },
  {
   "cell_type": "code",
   "execution_count": 20,
   "metadata": {},
   "outputs": [
    {
     "data": {
      "text/plain": [
       "(2, 3)"
      ]
     },
     "execution_count": 20,
     "metadata": {},
     "output_type": "execute_result"
    }
   ],
   "source": [
    "a.shape"
   ]
  },
  {
   "cell_type": "code",
   "execution_count": 21,
   "metadata": {},
   "outputs": [],
   "source": [
    "Z = np.tile(np.array([[0,1],[1,0]]), (4,4))"
   ]
  },
  {
   "cell_type": "code",
   "execution_count": 22,
   "metadata": {},
   "outputs": [
    {
     "data": {
      "text/plain": [
       "array([[0, 1, 0, 1, 0, 1, 0, 1],\n",
       "       [1, 0, 1, 0, 1, 0, 1, 0],\n",
       "       [0, 1, 0, 1, 0, 1, 0, 1],\n",
       "       [1, 0, 1, 0, 1, 0, 1, 0],\n",
       "       [0, 1, 0, 1, 0, 1, 0, 1],\n",
       "       [1, 0, 1, 0, 1, 0, 1, 0],\n",
       "       [0, 1, 0, 1, 0, 1, 0, 1],\n",
       "       [1, 0, 1, 0, 1, 0, 1, 0]])"
      ]
     },
     "execution_count": 22,
     "metadata": {},
     "output_type": "execute_result"
    }
   ],
   "source": [
    "Z"
   ]
  },
  {
   "cell_type": "code",
   "execution_count": 23,
   "metadata": {},
   "outputs": [
    {
     "data": {
      "text/plain": [
       "array([[0, 1, 0, 1],\n",
       "       [1, 0, 1, 0],\n",
       "       [0, 1, 0, 1],\n",
       "       [1, 0, 1, 0]])"
      ]
     },
     "execution_count": 23,
     "metadata": {},
     "output_type": "execute_result"
    }
   ],
   "source": [
    "np.tile(np.array([[0,1],[1,0]]),(2,2))"
   ]
  },
  {
   "cell_type": "code",
   "execution_count": 50,
   "metadata": {},
   "outputs": [
    {
     "data": {
      "text/plain": [
       "(0.996232816194418, 0.011510387152217638)"
      ]
     },
     "execution_count": 50,
     "metadata": {},
     "output_type": "execute_result"
    }
   ],
   "source": [
    "#np.random.random 은 0~1사이에서 난수생성\n",
    "Z = np.random.random((5,5))\n",
    "np.max(Z), np.min(Z)"
   ]
  },
  {
   "cell_type": "code",
   "execution_count": 37,
   "metadata": {},
   "outputs": [
    {
     "data": {
      "text/plain": [
       "array([[-1.27887931, -0.05325369, -0.03163375, -0.37955057, -0.46503026],\n",
       "       [ 1.77591274, -1.13190347,  0.24714128, -0.2530211 , -0.10699124],\n",
       "       [ 0.56037416,  1.1173225 ,  1.77063027, -1.45450225,  0.14436141],\n",
       "       [-1.63369604, -0.15495237,  0.13966808,  0.07072014,  1.70311217],\n",
       "       [-1.72876194,  0.48073723, -0.23584685, -0.62290717,  1.52095004]])"
      ]
     },
     "execution_count": 37,
     "metadata": {},
     "output_type": "execute_result"
    }
   ],
   "source": [
    "Z = (Z - np.mean(Z)) / (np.std(Z))\n",
    "Z"
   ]
  },
  {
   "cell_type": "code",
   "execution_count": 53,
   "metadata": {},
   "outputs": [],
   "source": [
    "color = np.dtype([(\"r\", np.ubyte, 1),\n",
    "                  (\"g\", np.ubyte, 1),\n",
    "                  (\"b\", np.ubyte, 1),\n",
    "                  (\"a\", np.ubyte, 1)])"
   ]
  },
  {
   "cell_type": "code",
   "execution_count": 54,
   "metadata": {},
   "outputs": [
    {
     "data": {
      "text/plain": [
       "numpy.dtype"
      ]
     },
     "execution_count": 54,
     "metadata": {},
     "output_type": "execute_result"
    }
   ],
   "source": [
    "type(color)"
   ]
  },
  {
   "cell_type": "code",
   "execution_count": 56,
   "metadata": {},
   "outputs": [
    {
     "ename": "AttributeError",
     "evalue": "'numpy.dtype' object has no attribute 'dtype'",
     "output_type": "error",
     "traceback": [
      "\u001b[0;31m\u001b[0m",
      "\u001b[0;31mAttributeError\u001b[0mTraceback (most recent call last)",
      "\u001b[0;32m<ipython-input-56-892e6f5eeac0>\u001b[0m in \u001b[0;36m<module>\u001b[0;34m()\u001b[0m\n\u001b[0;32m----> 1\u001b[0;31m \u001b[0mcolor\u001b[0m\u001b[0;34m.\u001b[0m\u001b[0mdtype\u001b[0m\u001b[0;34m\u001b[0m\u001b[0m\n\u001b[0m",
      "\u001b[0;31mAttributeError\u001b[0m: 'numpy.dtype' object has no attribute 'dtype'"
     ]
    }
   ],
   "source": [
    "color.dtype"
   ]
  },
  {
   "cell_type": "code",
   "execution_count": 57,
   "metadata": {},
   "outputs": [],
   "source": [
    "#np. dot : real matrix product\n",
    "Z = np.dot(np.ones((5,3)), np.ones((3,2)))"
   ]
  },
  {
   "cell_type": "code",
   "execution_count": 56,
   "metadata": {},
   "outputs": [
    {
     "ename": "AttributeError",
     "evalue": "'numpy.dtype' object has no attribute 'dtype'",
     "output_type": "error",
     "traceback": [
      "\u001b[0;31m\u001b[0m",
      "\u001b[0;31mAttributeError\u001b[0mTraceback (most recent call last)",
      "\u001b[0;32m<ipython-input-56-892e6f5eeac0>\u001b[0m in \u001b[0;36m<module>\u001b[0;34m()\u001b[0m\n\u001b[0;32m----> 1\u001b[0;31m \u001b[0mcolor\u001b[0m\u001b[0;34m.\u001b[0m\u001b[0mdtype\u001b[0m\u001b[0;34m\u001b[0m\u001b[0m\n\u001b[0m",
      "\u001b[0;31mAttributeError\u001b[0m: 'numpy.dtype' object has no attribute 'dtype'"
     ]
    }
   ],
   "source": [
    "color.dtype"
   ]
  },
  {
   "cell_type": "code",
   "execution_count": 58,
   "metadata": {},
   "outputs": [
    {
     "data": {
      "text/plain": [
       "array([[3., 3.],\n",
       "       [3., 3.],\n",
       "       [3., 3.],\n",
       "       [3., 3.],\n",
       "       [3., 3.]])"
      ]
     },
     "execution_count": 58,
     "metadata": {},
     "output_type": "execute_result"
    }
   ],
   "source": [
    "Z"
   ]
  },
  {
   "cell_type": "code",
   "execution_count": 62,
   "metadata": {},
   "outputs": [
    {
     "data": {
      "text/plain": [
       "array([[3., 3.],\n",
       "       [3., 3.],\n",
       "       [3., 3.],\n",
       "       [3., 3.],\n",
       "       [3., 3.]])"
      ]
     },
     "execution_count": 62,
     "metadata": {},
     "output_type": "execute_result"
    }
   ],
   "source": [
    "#python version 3.5이상부터 @로 matrix product가능\n",
    "np.ones((5,3))@ np.ones((3,2))"
   ]
  },
  {
   "cell_type": "code",
   "execution_count": 63,
   "metadata": {},
   "outputs": [
    {
     "data": {
      "text/plain": [
       "array([ 0,  1,  2,  3,  4,  5,  6,  7,  8,  9, 10])"
      ]
     },
     "execution_count": 63,
     "metadata": {},
     "output_type": "execute_result"
    }
   ],
   "source": [
    "Z = np.arange(11)\n",
    "Z"
   ]
  },
  {
   "cell_type": "code",
   "execution_count": 66,
   "metadata": {},
   "outputs": [],
   "source": [
    "# numpy ndarray에 조건주는 방법\n",
    "Z[(Z > 3) & (Z<9)] *= -1"
   ]
  },
  {
   "cell_type": "code",
   "execution_count": 67,
   "metadata": {},
   "outputs": [
    {
     "data": {
      "text/plain": [
       "array([ 0,  1,  2,  3, -4, -5, -6, -7, -8,  9, 10])"
      ]
     },
     "execution_count": 67,
     "metadata": {},
     "output_type": "execute_result"
    }
   ],
   "source": [
    "Z"
   ]
  },
  {
   "cell_type": "code",
   "execution_count": 72,
   "metadata": {},
   "outputs": [
    {
     "data": {
      "text/plain": [
       "45"
      ]
     },
     "execution_count": 72,
     "metadata": {},
     "output_type": "execute_result"
    }
   ],
   "source": [
    "sum(range(10),-1)"
   ]
  },
  {
   "cell_type": "code",
   "execution_count": 74,
   "metadata": {},
   "outputs": [
    {
     "name": "stdout",
     "output_type": "stream",
     "text": [
      "45\n"
     ]
    }
   ],
   "source": [
    "from numpy import *\n",
    "print(sum(range(10),-1))"
   ]
  },
  {
   "cell_type": "code",
   "execution_count": 76,
   "metadata": {},
   "outputs": [],
   "source": [
    "Z = np.arange(10)"
   ]
  },
  {
   "cell_type": "code",
   "execution_count": 77,
   "metadata": {},
   "outputs": [
    {
     "data": {
      "text/plain": [
       "array([0, 1, 2, 3, 4, 5, 6, 7, 8, 9])"
      ]
     },
     "execution_count": 77,
     "metadata": {},
     "output_type": "execute_result"
    }
   ],
   "source": [
    "Z"
   ]
  },
  {
   "cell_type": "code",
   "execution_count": 78,
   "metadata": {},
   "outputs": [
    {
     "data": {
      "text/plain": [
       "array([        1,         1,         4,        27,       256,      3125,\n",
       "           46656,    823543,  16777216, 387420489])"
      ]
     },
     "execution_count": 78,
     "metadata": {},
     "output_type": "execute_result"
    }
   ],
   "source": [
    "#각 원소의 거듭제곱 ex) 2^2,,,\n",
    "Z**Z"
   ]
  },
  {
   "cell_type": "code",
   "execution_count": 80,
   "metadata": {},
   "outputs": [
    {
     "data": {
      "text/plain": [
       "array([  0,   1,   2,   4,   8,  16,  32,  64, 128, 256])"
      ]
     },
     "execution_count": 80,
     "metadata": {},
     "output_type": "execute_result"
    }
   ],
   "source": [
    "2<<Z>>2"
   ]
  },
  {
   "cell_type": "code",
   "execution_count": 84,
   "metadata": {},
   "outputs": [
    {
     "data": {
      "text/plain": [
       "array([   3,    6,   12,   24,   48,   96,  192,  384,  768, 1536])"
      ]
     },
     "execution_count": 84,
     "metadata": {},
     "output_type": "execute_result"
    }
   ],
   "source": [
    "# 3 * 2^Z\n",
    "3<<Z"
   ]
  },
  {
   "cell_type": "code",
   "execution_count": 92,
   "metadata": {},
   "outputs": [
    {
     "data": {
      "text/plain": [
       "array([10,  5,  2,  1,  0,  0,  0,  0,  0,  0])"
      ]
     },
     "execution_count": 92,
     "metadata": {},
     "output_type": "execute_result"
    }
   ],
   "source": [
    "# 3 / 2^Z\n",
    "10 >> Z "
   ]
  },
  {
   "cell_type": "code",
   "execution_count": 95,
   "metadata": {},
   "outputs": [
    {
     "data": {
      "text/plain": [
       "array([False,  True,  True,  True,  True,  True,  True,  True,  True,\n",
       "        True])"
      ]
     },
     "execution_count": 95,
     "metadata": {},
     "output_type": "execute_result"
    }
   ],
   "source": [
    "Z > -Z"
   ]
  },
  {
   "cell_type": "code",
   "execution_count": 96,
   "metadata": {},
   "outputs": [
    {
     "data": {
      "text/plain": [
       "array([0, 1, 2, 3, 4, 5, 6, 7, 8, 9])"
      ]
     },
     "execution_count": 96,
     "metadata": {},
     "output_type": "execute_result"
    }
   ],
   "source": [
    "Z"
   ]
  },
  {
   "cell_type": "code",
   "execution_count": 100,
   "metadata": {},
   "outputs": [
    {
     "data": {
      "text/plain": [
       "array([0.+0.j, 0.+1.j, 0.+2.j, 0.+3.j, 0.+4.j, 0.+5.j, 0.+6.j, 0.+7.j,\n",
       "       0.+8.j, 0.+9.j])"
      ]
     },
     "execution_count": 100,
     "metadata": {},
     "output_type": "execute_result"
    }
   ],
   "source": [
    "1J*Z"
   ]
  },
  {
   "cell_type": "code",
   "execution_count": 101,
   "metadata": {},
   "outputs": [
    {
     "data": {
      "text/plain": [
       "array([0., 1., 2., 3., 4., 5., 6., 7., 8., 9.])"
      ]
     },
     "execution_count": 101,
     "metadata": {},
     "output_type": "execute_result"
    }
   ],
   "source": [
    "Z/1/1"
   ]
  },
  {
   "cell_type": "code",
   "execution_count": 102,
   "metadata": {},
   "outputs": [
    {
     "ename": "ValueError",
     "evalue": "The truth value of an array with more than one element is ambiguous. Use a.any() or a.all()",
     "output_type": "error",
     "traceback": [
      "\u001b[0;31m\u001b[0m",
      "\u001b[0;31mValueError\u001b[0mTraceback (most recent call last)",
      "\u001b[0;32m<ipython-input-102-6d2bd9eb1fd1>\u001b[0m in \u001b[0;36m<module>\u001b[0;34m()\u001b[0m\n\u001b[0;32m----> 1\u001b[0;31m \u001b[0mZ\u001b[0m\u001b[0;34m<\u001b[0m\u001b[0mZ\u001b[0m\u001b[0;34m>\u001b[0m\u001b[0mZ\u001b[0m\u001b[0;34m\u001b[0m\u001b[0m\n\u001b[0m",
      "\u001b[0;31mValueError\u001b[0m: The truth value of an array with more than one element is ambiguous. Use a.any() or a.all()"
     ]
    }
   ],
   "source": [
    "Z<Z>Z"
   ]
  },
  {
   "cell_type": "code",
   "execution_count": 109,
   "metadata": {},
   "outputs": [
    {
     "name": "stderr",
     "output_type": "stream",
     "text": [
      "/usr/local/lib/python3.5/dist-packages/ipykernel_launcher.py:1: RuntimeWarning: invalid value encountered in true_divide\n",
      "  \"\"\"Entry point for launching an IPython kernel.\n"
     ]
    },
    {
     "data": {
      "text/plain": [
       "nan"
      ]
     },
     "execution_count": 109,
     "metadata": {},
     "output_type": "execute_result"
    }
   ],
   "source": [
    "np.array(0)/np.array(0)"
   ]
  },
  {
   "cell_type": "code",
   "execution_count": 113,
   "metadata": {},
   "outputs": [
    {
     "data": {
      "text/plain": [
       "array([-9.22337204e+18])"
      ]
     },
     "execution_count": 113,
     "metadata": {},
     "output_type": "execute_result"
    }
   ],
   "source": [
    "np.array([np.nan]).astype(int).astype(float)"
   ]
  },
  {
   "cell_type": "code",
   "execution_count": 130,
   "metadata": {
    "scrolled": true
   },
   "outputs": [
    {
     "data": {
      "text/plain": [
       "array([-3.92546654, -2.20103129, -7.66594389,  0.7919518 ,  6.15029362,\n",
       "       -0.79246326,  1.18003976, -0.69551389, -0.35632266,  2.11547666])"
      ]
     },
     "execution_count": 130,
     "metadata": {},
     "output_type": "execute_result"
    }
   ],
   "source": [
    "Z = np.random.uniform(-10,10,10)\n",
    "Z"
   ]
  },
  {
   "cell_type": "code",
   "execution_count": 124,
   "metadata": {
    "scrolled": true
   },
   "outputs": [
    {
     "data": {
      "text/plain": [
       "array([ 9.599, -6.593, -9.159,  1.453, -9.294, -3.228, -2.802, -4.106,\n",
       "       -2.552,  6.671])"
      ]
     },
     "execution_count": 124,
     "metadata": {},
     "output_type": "execute_result"
    }
   ],
   "source": [
    "#반올림\n",
    "np.around(Z,3)"
   ]
  },
  {
   "cell_type": "code",
   "execution_count": 125,
   "metadata": {},
   "outputs": [
    {
     "data": {
      "text/plain": [
       "array([ 9., -6., -9.,  1., -9., -3., -2., -4., -2.,  6.])"
      ]
     },
     "execution_count": 125,
     "metadata": {},
     "output_type": "execute_result"
    }
   ],
   "source": [
    "# 0방향으로 가까운 정수 출력\n",
    "np.fix(Z)"
   ]
  },
  {
   "cell_type": "code",
   "execution_count": 126,
   "metadata": {},
   "outputs": [
    {
     "data": {
      "text/plain": [
       "array([10., -7., -9.,  1., -9., -3., -3., -4., -3.,  7.])"
      ]
     },
     "execution_count": 126,
     "metadata": {},
     "output_type": "execute_result"
    }
   ],
   "source": [
    "#가까운 정수 출력\n",
    "np.rint(Z)"
   ]
  },
  {
   "cell_type": "code",
   "execution_count": 133,
   "metadata": {},
   "outputs": [
    {
     "name": "stdout",
     "output_type": "stream",
     "text": [
      "[4. 3. 8. 1. 7. 1. 2. 1. 1. 3.]\n"
     ]
    }
   ],
   "source": [
    "print(np.copysign(np.ceil(np.abs(Z)),Z))"
   ]
  },
  {
   "cell_type": "code",
   "execution_count": 122,
   "metadata": {},
   "outputs": [
    {
     "data": {
      "text/plain": [
       "array([9.59866768, 6.59253484, 9.1591773 , 1.45330183, 9.29403635,\n",
       "       3.22772231, 2.80180034, 4.10635513, 2.55241568, 6.67088797])"
      ]
     },
     "execution_count": 122,
     "metadata": {},
     "output_type": "execute_result"
    }
   ],
   "source": [
    "np.abs(Z)"
   ]
  },
  {
   "cell_type": "code",
   "execution_count": 123,
   "metadata": {},
   "outputs": [
    {
     "data": {
      "text/plain": [
       "array([10.,  7., 10.,  2., 10.,  4.,  3.,  5.,  3.,  7.])"
      ]
     },
     "execution_count": 123,
     "metadata": {},
     "output_type": "execute_result"
    }
   ],
   "source": [
    "#각 원소값보다 크거나 같은 가장 작은 정수값으로 올린다.\n",
    "# 작거나 같은 값은 np.floor\n",
    "np.ceil(np.abs(Z))"
   ]
  },
  {
   "cell_type": "code",
   "execution_count": 131,
   "metadata": {},
   "outputs": [
    {
     "data": {
      "text/plain": [
       "array([4., 3., 8., 1., 7., 1., 2., 1., 1., 3.])"
      ]
     },
     "execution_count": 131,
     "metadata": {},
     "output_type": "execute_result"
    }
   ],
   "source": [
    "np.ceil(np.abs(Z),Z)"
   ]
  },
  {
   "cell_type": "code",
   "execution_count": 132,
   "metadata": {},
   "outputs": [
    {
     "data": {
      "text/plain": [
       "array([4., 3., 8., 1., 7., 1., 2., 1., 1., 3.])"
      ]
     },
     "execution_count": 132,
     "metadata": {},
     "output_type": "execute_result"
    }
   ],
   "source": [
    "Z"
   ]
  },
  {
   "cell_type": "code",
   "execution_count": 134,
   "metadata": {},
   "outputs": [
    {
     "name": "stdout",
     "output_type": "stream",
     "text": [
      "[0 4 8 5 7 5 8 0 2 4] [0 9 7 4 5 6 8 1 3 1]\n"
     ]
    }
   ],
   "source": [
    "Z1 = np.random.randint(0,10,10)\n",
    "Z2 = np.random.randint(0,10,10)\n",
    "print(Z1, Z2)"
   ]
  },
  {
   "cell_type": "code",
   "execution_count": 135,
   "metadata": {},
   "outputs": [
    {
     "data": {
      "text/plain": [
       "array([0, 4, 5, 7, 8])"
      ]
     },
     "execution_count": 135,
     "metadata": {},
     "output_type": "execute_result"
    }
   ],
   "source": [
    "np.intersect1d(Z1,Z2)"
   ]
  },
  {
   "cell_type": "code",
   "execution_count": 139,
   "metadata": {},
   "outputs": [],
   "source": [
    "defaults = np.seterr(all = \"ignore\")"
   ]
  },
  {
   "cell_type": "code",
   "execution_count": 144,
   "metadata": {},
   "outputs": [
    {
     "name": "stderr",
     "output_type": "stream",
     "text": [
      "/usr/local/lib/python3.5/dist-packages/ipykernel_launcher.py:2: RuntimeWarning: divide by zero encountered in true_divide\n",
      "  \n"
     ]
    },
    {
     "data": {
      "text/plain": [
       "array([inf])"
      ]
     },
     "execution_count": 144,
     "metadata": {},
     "output_type": "execute_result"
    }
   ],
   "source": [
    "\n",
    "np.ones(1)/0"
   ]
  },
  {
   "cell_type": "code",
   "execution_count": 143,
   "metadata": {},
   "outputs": [],
   "source": [
    "_ = np.seterr(**defaults)"
   ]
  },
  {
   "cell_type": "code",
   "execution_count": 148,
   "metadata": {
    "scrolled": true
   },
   "outputs": [
    {
     "name": "stderr",
     "output_type": "stream",
     "text": [
      "/usr/local/lib/python3.5/dist-packages/ipykernel_launcher.py:1: RuntimeWarning: invalid value encountered in sqrt\n",
      "  \"\"\"Entry point for launching an IPython kernel.\n"
     ]
    },
    {
     "data": {
      "text/plain": [
       "False"
      ]
     },
     "execution_count": 148,
     "metadata": {},
     "output_type": "execute_result"
    }
   ],
   "source": [
    "np.sqrt(-1) == np.emath.sqrt(-1) #false"
   ]
  },
  {
   "cell_type": "code",
   "execution_count": 146,
   "metadata": {},
   "outputs": [
    {
     "data": {
      "text/plain": [
       "1j"
      ]
     },
     "execution_count": 146,
     "metadata": {},
     "output_type": "execute_result"
    }
   ],
   "source": [
    "np.emath.sqrt(-1)"
   ]
  },
  {
   "cell_type": "markdown",
   "metadata": {},
   "source": [
    "datetime"
   ]
  },
  {
   "cell_type": "code",
   "execution_count": 149,
   "metadata": {},
   "outputs": [
    {
     "data": {
      "text/plain": [
       "numpy.datetime64('2019-04-10')"
      ]
     },
     "execution_count": 149,
     "metadata": {},
     "output_type": "execute_result"
    }
   ],
   "source": [
    "np.datetime64('today','D')"
   ]
  },
  {
   "cell_type": "code",
   "execution_count": 155,
   "metadata": {},
   "outputs": [
    {
     "name": "stdout",
     "output_type": "stream",
     "text": [
      "Help on class datetime64 in module numpy:\n",
      "\n",
      "class datetime64(generic)\n",
      " |  Base class for numpy scalar types.\n",
      " |  \n",
      " |  Class from which most (all?) numpy scalar types are derived.  For\n",
      " |  consistency, exposes the same API as `ndarray`, despite many\n",
      " |  consequent attributes being either \"get-only,\" or completely irrelevant.\n",
      " |  This is the class from which it is strongly suggested users should derive\n",
      " |  custom scalar types.\n",
      " |  \n",
      " |  Method resolution order:\n",
      " |      datetime64\n",
      " |      generic\n",
      " |      builtins.object\n",
      " |  \n",
      " |  Methods defined here:\n",
      " |  \n",
      " |  __eq__(self, value, /)\n",
      " |      Return self==value.\n",
      " |  \n",
      " |  __ge__(self, value, /)\n",
      " |      Return self>=value.\n",
      " |  \n",
      " |  __gt__(self, value, /)\n",
      " |      Return self>value.\n",
      " |  \n",
      " |  __hash__(self, /)\n",
      " |      Return hash(self).\n",
      " |  \n",
      " |  __le__(self, value, /)\n",
      " |      Return self<=value.\n",
      " |  \n",
      " |  __lt__(self, value, /)\n",
      " |      Return self<value.\n",
      " |  \n",
      " |  __ne__(self, value, /)\n",
      " |      Return self!=value.\n",
      " |  \n",
      " |  __new__(*args, **kwargs) from builtins.type\n",
      " |      Create and return a new object.  See help(type) for accurate signature.\n",
      " |  \n",
      " |  __repr__(self, /)\n",
      " |      Return repr(self).\n",
      " |  \n",
      " |  __str__(self, /)\n",
      " |      Return str(self).\n",
      " |  \n",
      " |  ----------------------------------------------------------------------\n",
      " |  Methods inherited from generic:\n",
      " |  \n",
      " |  __abs__(self, /)\n",
      " |      abs(self)\n",
      " |  \n",
      " |  __add__(self, value, /)\n",
      " |      Return self+value.\n",
      " |  \n",
      " |  __and__(self, value, /)\n",
      " |      Return self&value.\n",
      " |  \n",
      " |  __array__(...)\n",
      " |      sc.__array__(|type) return 0-dim array\n",
      " |  \n",
      " |  __array_wrap__(...)\n",
      " |      sc.__array_wrap__(obj) return scalar from array\n",
      " |  \n",
      " |  __bool__(self, /)\n",
      " |      self != 0\n",
      " |  \n",
      " |  __copy__(...)\n",
      " |  \n",
      " |  __deepcopy__(...)\n",
      " |  \n",
      " |  __divmod__(self, value, /)\n",
      " |      Return divmod(self, value).\n",
      " |  \n",
      " |  __float__(self, /)\n",
      " |      float(self)\n",
      " |  \n",
      " |  __floordiv__(self, value, /)\n",
      " |      Return self//value.\n",
      " |  \n",
      " |  __format__(...)\n",
      " |      NumPy array scalar formatter\n",
      " |  \n",
      " |  __getitem__(self, key, /)\n",
      " |      Return self[key].\n",
      " |  \n",
      " |  __int__(self, /)\n",
      " |      int(self)\n",
      " |  \n",
      " |  __invert__(self, /)\n",
      " |      ~self\n",
      " |  \n",
      " |  __lshift__(self, value, /)\n",
      " |      Return self<<value.\n",
      " |  \n",
      " |  __mod__(self, value, /)\n",
      " |      Return self%value.\n",
      " |  \n",
      " |  __mul__(self, value, /)\n",
      " |      Return self*value.\n",
      " |  \n",
      " |  __neg__(self, /)\n",
      " |      -self\n",
      " |  \n",
      " |  __or__(self, value, /)\n",
      " |      Return self|value.\n",
      " |  \n",
      " |  __pos__(self, /)\n",
      " |      +self\n",
      " |  \n",
      " |  __pow__(self, value, mod=None, /)\n",
      " |      Return pow(self, value, mod).\n",
      " |  \n",
      " |  __radd__(self, value, /)\n",
      " |      Return value+self.\n",
      " |  \n",
      " |  __rand__(self, value, /)\n",
      " |      Return value&self.\n",
      " |  \n",
      " |  __rdivmod__(self, value, /)\n",
      " |      Return divmod(value, self).\n",
      " |  \n",
      " |  __reduce__(...)\n",
      " |      helper for pickle\n",
      " |  \n",
      " |  __rfloordiv__(self, value, /)\n",
      " |      Return value//self.\n",
      " |  \n",
      " |  __rlshift__(self, value, /)\n",
      " |      Return value<<self.\n",
      " |  \n",
      " |  __rmod__(self, value, /)\n",
      " |      Return value%self.\n",
      " |  \n",
      " |  __rmul__(self, value, /)\n",
      " |      Return value*self.\n",
      " |  \n",
      " |  __ror__(self, value, /)\n",
      " |      Return value|self.\n",
      " |  \n",
      " |  __round__(...)\n",
      " |  \n",
      " |  __rpow__(self, value, mod=None, /)\n",
      " |      Return pow(value, self, mod).\n",
      " |  \n",
      " |  __rrshift__(self, value, /)\n",
      " |      Return value>>self.\n",
      " |  \n",
      " |  __rshift__(self, value, /)\n",
      " |      Return self>>value.\n",
      " |  \n",
      " |  __rsub__(self, value, /)\n",
      " |      Return value-self.\n",
      " |  \n",
      " |  __rtruediv__(self, value, /)\n",
      " |      Return value/self.\n",
      " |  \n",
      " |  __rxor__(self, value, /)\n",
      " |      Return value^self.\n",
      " |  \n",
      " |  __setstate__(...)\n",
      " |  \n",
      " |  __sizeof__(...)\n",
      " |      __sizeof__() -> int\n",
      " |      size of object in memory, in bytes\n",
      " |  \n",
      " |  __sub__(self, value, /)\n",
      " |      Return self-value.\n",
      " |  \n",
      " |  __truediv__(self, value, /)\n",
      " |      Return self/value.\n",
      " |  \n",
      " |  __xor__(self, value, /)\n",
      " |      Return self^value.\n",
      " |  \n",
      " |  all(...)\n",
      " |      Not implemented (virtual attribute)\n",
      " |      \n",
      " |      Class generic exists solely to derive numpy scalars from, and possesses,\n",
      " |      albeit unimplemented, all the attributes of the ndarray class\n",
      " |      so as to provide a uniform API.\n",
      " |      \n",
      " |      See Also\n",
      " |      --------\n",
      " |      The corresponding attribute of the derived class of interest.\n",
      " |  \n",
      " |  any(...)\n",
      " |      Not implemented (virtual attribute)\n",
      " |      \n",
      " |      Class generic exists solely to derive numpy scalars from, and possesses,\n",
      " |      albeit unimplemented, all the attributes of the ndarray class\n",
      " |      so as to provide a uniform API.\n",
      " |      \n",
      " |      See Also\n",
      " |      --------\n",
      " |      The corresponding attribute of the derived class of interest.\n",
      " |  \n",
      " |  argmax(...)\n",
      " |      Not implemented (virtual attribute)\n",
      " |      \n",
      " |      Class generic exists solely to derive numpy scalars from, and possesses,\n",
      " |      albeit unimplemented, all the attributes of the ndarray class\n",
      " |      so as to provide a uniform API.\n",
      " |      \n",
      " |      See Also\n",
      " |      --------\n",
      " |      The corresponding attribute of the derived class of interest.\n",
      " |  \n",
      " |  argmin(...)\n",
      " |      Not implemented (virtual attribute)\n",
      " |      \n",
      " |      Class generic exists solely to derive numpy scalars from, and possesses,\n",
      " |      albeit unimplemented, all the attributes of the ndarray class\n",
      " |      so as to provide a uniform API.\n",
      " |      \n",
      " |      See Also\n",
      " |      --------\n",
      " |      The corresponding attribute of the derived class of interest.\n",
      " |  \n",
      " |  argsort(...)\n",
      " |      Not implemented (virtual attribute)\n",
      " |      \n",
      " |      Class generic exists solely to derive numpy scalars from, and possesses,\n",
      " |      albeit unimplemented, all the attributes of the ndarray class\n",
      " |      so as to provide a uniform API.\n",
      " |      \n",
      " |      See Also\n",
      " |      --------\n",
      " |      The corresponding attribute of the derived class of interest.\n",
      " |  \n",
      " |  astype(...)\n",
      " |      Not implemented (virtual attribute)\n",
      " |      \n",
      " |      Class generic exists solely to derive numpy scalars from, and possesses,\n",
      " |      albeit unimplemented, all the attributes of the ndarray class\n",
      " |      so as to provide a uniform API.\n",
      " |      \n",
      " |      See Also\n",
      " |      --------\n",
      " |      The corresponding attribute of the derived class of interest.\n",
      " |  \n",
      " |  byteswap(...)\n",
      " |      Not implemented (virtual attribute)\n",
      " |      \n",
      " |      Class generic exists solely to derive numpy scalars from, and possesses,\n",
      " |      albeit unimplemented, all the attributes of the ndarray class so as to\n",
      " |      provide a uniform API.\n",
      " |      \n",
      " |      See Also\n",
      " |      --------\n",
      " |      The corresponding attribute of the derived class of interest.\n",
      " |  \n",
      " |  choose(...)\n",
      " |      Not implemented (virtual attribute)\n",
      " |      \n",
      " |      Class generic exists solely to derive numpy scalars from, and possesses,\n",
      " |      albeit unimplemented, all the attributes of the ndarray class\n",
      " |      so as to provide a uniform API.\n",
      " |      \n",
      " |      See Also\n",
      " |      --------\n",
      " |      The corresponding attribute of the derived class of interest.\n",
      " |  \n",
      " |  clip(...)\n",
      " |      Not implemented (virtual attribute)\n",
      " |      \n",
      " |      Class generic exists solely to derive numpy scalars from, and possesses,\n",
      " |      albeit unimplemented, all the attributes of the ndarray class\n",
      " |      so as to provide a uniform API.\n",
      " |      \n",
      " |      See Also\n",
      " |      --------\n",
      " |      The corresponding attribute of the derived class of interest.\n",
      " |  \n",
      " |  compress(...)\n",
      " |      Not implemented (virtual attribute)\n",
      " |      \n",
      " |      Class generic exists solely to derive numpy scalars from, and possesses,\n",
      " |      albeit unimplemented, all the attributes of the ndarray class\n",
      " |      so as to provide a uniform API.\n",
      " |      \n",
      " |      See Also\n",
      " |      --------\n",
      " |      The corresponding attribute of the derived class of interest.\n",
      " |  \n",
      " |  conj(...)\n",
      " |  \n",
      " |  conjugate(...)\n",
      " |      Not implemented (virtual attribute)\n",
      " |      \n",
      " |      Class generic exists solely to derive numpy scalars from, and possesses,\n",
      " |      albeit unimplemented, all the attributes of the ndarray class\n",
      " |      so as to provide a uniform API.\n",
      " |      \n",
      " |      See Also\n",
      " |      --------\n",
      " |      The corresponding attribute of the derived class of interest.\n",
      " |  \n",
      " |  copy(...)\n",
      " |      Not implemented (virtual attribute)\n",
      " |      \n",
      " |      Class generic exists solely to derive numpy scalars from, and possesses,\n",
      " |      albeit unimplemented, all the attributes of the ndarray class\n",
      " |      so as to provide a uniform API.\n",
      " |      \n",
      " |      See Also\n",
      " |      --------\n",
      " |      The corresponding attribute of the derived class of interest.\n",
      " |  \n",
      " |  cumprod(...)\n",
      " |      Not implemented (virtual attribute)\n",
      " |      \n",
      " |      Class generic exists solely to derive numpy scalars from, and possesses,\n",
      " |      albeit unimplemented, all the attributes of the ndarray class\n",
      " |      so as to provide a uniform API.\n",
      " |      \n",
      " |      See Also\n",
      " |      --------\n",
      " |      The corresponding attribute of the derived class of interest.\n",
      " |  \n",
      " |  cumsum(...)\n",
      " |      Not implemented (virtual attribute)\n",
      " |      \n",
      " |      Class generic exists solely to derive numpy scalars from, and possesses,\n",
      " |      albeit unimplemented, all the attributes of the ndarray class\n",
      " |      so as to provide a uniform API.\n",
      " |      \n",
      " |      See Also\n",
      " |      --------\n",
      " |      The corresponding attribute of the derived class of interest.\n",
      " |  \n",
      " |  diagonal(...)\n",
      " |      Not implemented (virtual attribute)\n",
      " |      \n",
      " |      Class generic exists solely to derive numpy scalars from, and possesses,\n",
      " |      albeit unimplemented, all the attributes of the ndarray class\n",
      " |      so as to provide a uniform API.\n",
      " |      \n",
      " |      See Also\n",
      " |      --------\n",
      " |      The corresponding attribute of the derived class of interest.\n",
      " |  \n",
      " |  dump(...)\n",
      " |      Not implemented (virtual attribute)\n",
      " |      \n",
      " |      Class generic exists solely to derive numpy scalars from, and possesses,\n",
      " |      albeit unimplemented, all the attributes of the ndarray class\n",
      " |      so as to provide a uniform API.\n",
      " |      \n",
      " |      See Also\n",
      " |      --------\n",
      " |      The corresponding attribute of the derived class of interest.\n",
      " |  \n",
      " |  dumps(...)\n",
      " |      Not implemented (virtual attribute)\n",
      " |      \n",
      " |      Class generic exists solely to derive numpy scalars from, and possesses,\n",
      " |      albeit unimplemented, all the attributes of the ndarray class\n",
      " |      so as to provide a uniform API.\n",
      " |      \n",
      " |      See Also\n",
      " |      --------\n",
      " |      The corresponding attribute of the derived class of interest.\n",
      " |  \n",
      " |  fill(...)\n",
      " |      Not implemented (virtual attribute)\n",
      " |      \n",
      " |      Class generic exists solely to derive numpy scalars from, and possesses,\n",
      " |      albeit unimplemented, all the attributes of the ndarray class\n",
      " |      so as to provide a uniform API.\n",
      " |      \n",
      " |      See Also\n",
      " |      --------\n",
      " |      The corresponding attribute of the derived class of interest.\n",
      " |  \n",
      " |  flatten(...)\n",
      " |      Not implemented (virtual attribute)\n",
      " |      \n",
      " |      Class generic exists solely to derive numpy scalars from, and possesses,\n",
      " |      albeit unimplemented, all the attributes of the ndarray class\n",
      " |      so as to provide a uniform API.\n",
      " |      \n",
      " |      See Also\n",
      " |      --------\n",
      " |      The corresponding attribute of the derived class of interest.\n",
      " |  \n",
      " |  getfield(...)\n",
      " |      Not implemented (virtual attribute)\n",
      " |      \n",
      " |      Class generic exists solely to derive numpy scalars from, and possesses,\n",
      " |      albeit unimplemented, all the attributes of the ndarray class\n",
      " |      so as to provide a uniform API.\n",
      " |      \n",
      " |      See Also\n",
      " |      --------\n",
      " |      The corresponding attribute of the derived class of interest.\n",
      " |  \n",
      " |  item(...)\n",
      " |      Not implemented (virtual attribute)\n",
      " |      \n",
      " |      Class generic exists solely to derive numpy scalars from, and possesses,\n",
      " |      albeit unimplemented, all the attributes of the ndarray class\n",
      " |      so as to provide a uniform API.\n",
      " |      \n",
      " |      See Also\n",
      " |      --------\n",
      " |      The corresponding attribute of the derived class of interest.\n",
      " |  \n",
      " |  itemset(...)\n",
      " |      Not implemented (virtual attribute)\n",
      " |      \n",
      " |      Class generic exists solely to derive numpy scalars from, and possesses,\n",
      " |      albeit unimplemented, all the attributes of the ndarray class\n",
      " |      so as to provide a uniform API.\n",
      " |      \n",
      " |      See Also\n",
      " |      --------\n",
      " |      The corresponding attribute of the derived class of interest.\n",
      " |  \n",
      " |  max(...)\n",
      " |      Not implemented (virtual attribute)\n",
      " |      \n",
      " |      Class generic exists solely to derive numpy scalars from, and possesses,\n",
      " |      albeit unimplemented, all the attributes of the ndarray class\n",
      " |      so as to provide a uniform API.\n",
      " |      \n",
      " |      See Also\n",
      " |      --------\n",
      " |      The corresponding attribute of the derived class of interest.\n",
      " |  \n",
      " |  mean(...)\n",
      " |      Not implemented (virtual attribute)\n",
      " |      \n",
      " |      Class generic exists solely to derive numpy scalars from, and possesses,\n",
      " |      albeit unimplemented, all the attributes of the ndarray class\n",
      " |      so as to provide a uniform API.\n",
      " |      \n",
      " |      See Also\n",
      " |      --------\n",
      " |      The corresponding attribute of the derived class of interest.\n",
      " |  \n",
      " |  min(...)\n",
      " |      Not implemented (virtual attribute)\n",
      " |      \n",
      " |      Class generic exists solely to derive numpy scalars from, and possesses,\n",
      " |      albeit unimplemented, all the attributes of the ndarray class\n",
      " |      so as to provide a uniform API.\n",
      " |      \n",
      " |      See Also\n",
      " |      --------\n",
      " |      The corresponding attribute of the derived class of interest.\n",
      " |  \n",
      " |  newbyteorder(...)\n",
      " |      newbyteorder(new_order='S')\n",
      " |      \n",
      " |      Return a new `dtype` with a different byte order.\n",
      " |      \n",
      " |      Changes are also made in all fields and sub-arrays of the data type.\n",
      " |      \n",
      " |      The `new_order` code can be any from the following:\n",
      " |      \n",
      " |      * 'S' - swap dtype from current to opposite endian\n",
      " |      * {'<', 'L'} - little endian\n",
      " |      * {'>', 'B'} - big endian\n",
      " |      * {'=', 'N'} - native order\n",
      " |      * {'|', 'I'} - ignore (no change to byte order)\n",
      " |      \n",
      " |      Parameters\n",
      " |      ----------\n",
      " |      new_order : str, optional\n",
      " |          Byte order to force; a value from the byte order specifications\n",
      " |          above.  The default value ('S') results in swapping the current\n",
      " |          byte order. The code does a case-insensitive check on the first\n",
      " |          letter of `new_order` for the alternatives above.  For example,\n",
      " |          any of 'B' or 'b' or 'biggish' are valid to specify big-endian.\n",
      " |      \n",
      " |      \n",
      " |      Returns\n",
      " |      -------\n",
      " |      new_dtype : dtype\n",
      " |          New `dtype` object with the given change to the byte order.\n",
      " |  \n",
      " |  nonzero(...)\n",
      " |      Not implemented (virtual attribute)\n",
      " |      \n",
      " |      Class generic exists solely to derive numpy scalars from, and possesses,\n",
      " |      albeit unimplemented, all the attributes of the ndarray class\n",
      " |      so as to provide a uniform API.\n",
      " |      \n",
      " |      See Also\n",
      " |      --------\n",
      " |      The corresponding attribute of the derived class of interest.\n",
      " |  \n",
      " |  prod(...)\n",
      " |      Not implemented (virtual attribute)\n",
      " |      \n",
      " |      Class generic exists solely to derive numpy scalars from, and possesses,\n",
      " |      albeit unimplemented, all the attributes of the ndarray class\n",
      " |      so as to provide a uniform API.\n",
      " |      \n",
      " |      See Also\n",
      " |      --------\n",
      " |      The corresponding attribute of the derived class of interest.\n",
      " |  \n",
      " |  ptp(...)\n",
      " |      Not implemented (virtual attribute)\n",
      " |      \n",
      " |      Class generic exists solely to derive numpy scalars from, and possesses,\n",
      " |      albeit unimplemented, all the attributes of the ndarray class\n",
      " |      so as to provide a uniform API.\n",
      " |      \n",
      " |      See Also\n",
      " |      --------\n",
      " |      The corresponding attribute of the derived class of interest.\n",
      " |  \n",
      " |  put(...)\n",
      " |      Not implemented (virtual attribute)\n",
      " |      \n",
      " |      Class generic exists solely to derive numpy scalars from, and possesses,\n",
      " |      albeit unimplemented, all the attributes of the ndarray class\n",
      " |      so as to provide a uniform API.\n",
      " |      \n",
      " |      See Also\n",
      " |      --------\n",
      " |      The corresponding attribute of the derived class of interest.\n",
      " |  \n",
      " |  ravel(...)\n",
      " |      Not implemented (virtual attribute)\n",
      " |      \n",
      " |      Class generic exists solely to derive numpy scalars from, and possesses,\n",
      " |      albeit unimplemented, all the attributes of the ndarray class\n",
      " |      so as to provide a uniform API.\n",
      " |      \n",
      " |      See Also\n",
      " |      --------\n",
      " |      The corresponding attribute of the derived class of interest.\n",
      " |  \n",
      " |  repeat(...)\n",
      " |      Not implemented (virtual attribute)\n",
      " |      \n",
      " |      Class generic exists solely to derive numpy scalars from, and possesses,\n",
      " |      albeit unimplemented, all the attributes of the ndarray class\n",
      " |      so as to provide a uniform API.\n",
      " |      \n",
      " |      See Also\n",
      " |      --------\n",
      " |      The corresponding attribute of the derived class of interest.\n",
      " |  \n",
      " |  reshape(...)\n",
      " |      Not implemented (virtual attribute)\n",
      " |      \n",
      " |      Class generic exists solely to derive numpy scalars from, and possesses,\n",
      " |      albeit unimplemented, all the attributes of the ndarray class\n",
      " |      so as to provide a uniform API.\n",
      " |      \n",
      " |      See Also\n",
      " |      --------\n",
      " |      The corresponding attribute of the derived class of interest.\n",
      " |  \n",
      " |  resize(...)\n",
      " |      Not implemented (virtual attribute)\n",
      " |      \n",
      " |      Class generic exists solely to derive numpy scalars from, and possesses,\n",
      " |      albeit unimplemented, all the attributes of the ndarray class\n",
      " |      so as to provide a uniform API.\n",
      " |      \n",
      " |      See Also\n",
      " |      --------\n",
      " |      The corresponding attribute of the derived class of interest.\n",
      " |  \n",
      " |  round(...)\n",
      " |      Not implemented (virtual attribute)\n",
      " |      \n",
      " |      Class generic exists solely to derive numpy scalars from, and possesses,\n",
      " |      albeit unimplemented, all the attributes of the ndarray class\n",
      " |      so as to provide a uniform API.\n",
      " |      \n",
      " |      See Also\n",
      " |      --------\n",
      " |      The corresponding attribute of the derived class of interest.\n",
      " |  \n",
      " |  searchsorted(...)\n",
      " |      Not implemented (virtual attribute)\n",
      " |      \n",
      " |      Class generic exists solely to derive numpy scalars from, and possesses,\n",
      " |      albeit unimplemented, all the attributes of the ndarray class\n",
      " |      so as to provide a uniform API.\n",
      " |      \n",
      " |      See Also\n",
      " |      --------\n",
      " |      The corresponding attribute of the derived class of interest.\n",
      " |  \n",
      " |  setfield(...)\n",
      " |      Not implemented (virtual attribute)\n",
      " |      \n",
      " |      Class generic exists solely to derive numpy scalars from, and possesses,\n",
      " |      albeit unimplemented, all the attributes of the ndarray class\n",
      " |      so as to provide a uniform API.\n",
      " |      \n",
      " |      See Also\n",
      " |      --------\n",
      " |      The corresponding attribute of the derived class of interest.\n",
      " |  \n",
      " |  setflags(...)\n",
      " |      Not implemented (virtual attribute)\n",
      " |      \n",
      " |      Class generic exists solely to derive numpy scalars from, and possesses,\n",
      " |      albeit unimplemented, all the attributes of the ndarray class so as to\n",
      " |      provide a uniform API.\n",
      " |      \n",
      " |      See Also\n",
      " |      --------\n",
      " |      The corresponding attribute of the derived class of interest.\n",
      " |  \n",
      " |  sort(...)\n",
      " |      Not implemented (virtual attribute)\n",
      " |      \n",
      " |      Class generic exists solely to derive numpy scalars from, and possesses,\n",
      " |      albeit unimplemented, all the attributes of the ndarray class\n",
      " |      so as to provide a uniform API.\n",
      " |      \n",
      " |      See Also\n",
      " |      --------\n",
      " |      The corresponding attribute of the derived class of interest.\n",
      " |  \n",
      " |  squeeze(...)\n",
      " |      Not implemented (virtual attribute)\n",
      " |      \n",
      " |      Class generic exists solely to derive numpy scalars from, and possesses,\n",
      " |      albeit unimplemented, all the attributes of the ndarray class\n",
      " |      so as to provide a uniform API.\n",
      " |      \n",
      " |      See Also\n",
      " |      --------\n",
      " |      The corresponding attribute of the derived class of interest.\n",
      " |  \n",
      " |  std(...)\n",
      " |      Not implemented (virtual attribute)\n",
      " |      \n",
      " |      Class generic exists solely to derive numpy scalars from, and possesses,\n",
      " |      albeit unimplemented, all the attributes of the ndarray class\n",
      " |      so as to provide a uniform API.\n",
      " |      \n",
      " |      See Also\n",
      " |      --------\n",
      " |      The corresponding attribute of the derived class of interest.\n",
      " |  \n",
      " |  sum(...)\n",
      " |      Not implemented (virtual attribute)\n",
      " |      \n",
      " |      Class generic exists solely to derive numpy scalars from, and possesses,\n",
      " |      albeit unimplemented, all the attributes of the ndarray class\n",
      " |      so as to provide a uniform API.\n",
      " |      \n",
      " |      See Also\n",
      " |      --------\n",
      " |      The corresponding attribute of the derived class of interest.\n",
      " |  \n",
      " |  swapaxes(...)\n",
      " |      Not implemented (virtual attribute)\n",
      " |      \n",
      " |      Class generic exists solely to derive numpy scalars from, and possesses,\n",
      " |      albeit unimplemented, all the attributes of the ndarray class\n",
      " |      so as to provide a uniform API.\n",
      " |      \n",
      " |      See Also\n",
      " |      --------\n",
      " |      The corresponding attribute of the derived class of interest.\n",
      " |  \n",
      " |  take(...)\n",
      " |      Not implemented (virtual attribute)\n",
      " |      \n",
      " |      Class generic exists solely to derive numpy scalars from, and possesses,\n",
      " |      albeit unimplemented, all the attributes of the ndarray class\n",
      " |      so as to provide a uniform API.\n",
      " |      \n",
      " |      See Also\n",
      " |      --------\n",
      " |      The corresponding attribute of the derived class of interest.\n",
      " |  \n",
      " |  tobytes(...)\n",
      " |  \n",
      " |  tofile(...)\n",
      " |      Not implemented (virtual attribute)\n",
      " |      \n",
      " |      Class generic exists solely to derive numpy scalars from, and possesses,\n",
      " |      albeit unimplemented, all the attributes of the ndarray class\n",
      " |      so as to provide a uniform API.\n",
      " |      \n",
      " |      See Also\n",
      " |      --------\n",
      " |      The corresponding attribute of the derived class of interest.\n",
      " |  \n",
      " |  tolist(...)\n",
      " |      Not implemented (virtual attribute)\n",
      " |      \n",
      " |      Class generic exists solely to derive numpy scalars from, and possesses,\n",
      " |      albeit unimplemented, all the attributes of the ndarray class\n",
      " |      so as to provide a uniform API.\n",
      " |      \n",
      " |      See Also\n",
      " |      --------\n",
      " |      The corresponding attribute of the derived class of interest.\n",
      " |  \n",
      " |  tostring(...)\n",
      " |      Not implemented (virtual attribute)\n",
      " |      \n",
      " |      Class generic exists solely to derive numpy scalars from, and possesses,\n",
      " |      albeit unimplemented, all the attributes of the ndarray class\n",
      " |      so as to provide a uniform API.\n",
      " |      \n",
      " |      See Also\n",
      " |      --------\n",
      " |      The corresponding attribute of the derived class of interest.\n",
      " |  \n",
      " |  trace(...)\n",
      " |      Not implemented (virtual attribute)\n",
      " |      \n",
      " |      Class generic exists solely to derive numpy scalars from, and possesses,\n",
      " |      albeit unimplemented, all the attributes of the ndarray class\n",
      " |      so as to provide a uniform API.\n",
      " |      \n",
      " |      See Also\n",
      " |      --------\n",
      " |      The corresponding attribute of the derived class of interest.\n",
      " |  \n",
      " |  transpose(...)\n",
      " |      Not implemented (virtual attribute)\n",
      " |      \n",
      " |      Class generic exists solely to derive numpy scalars from, and possesses,\n",
      " |      albeit unimplemented, all the attributes of the ndarray class\n",
      " |      so as to provide a uniform API.\n",
      " |      \n",
      " |      See Also\n",
      " |      --------\n",
      " |      The corresponding attribute of the derived class of interest.\n",
      " |  \n",
      " |  var(...)\n",
      " |      Not implemented (virtual attribute)\n",
      " |      \n",
      " |      Class generic exists solely to derive numpy scalars from, and possesses,\n",
      " |      albeit unimplemented, all the attributes of the ndarray class\n",
      " |      so as to provide a uniform API.\n",
      " |      \n",
      " |      See Also\n",
      " |      --------\n",
      " |      The corresponding attribute of the derived class of interest.\n",
      " |  \n",
      " |  view(...)\n",
      " |      Not implemented (virtual attribute)\n",
      " |      \n",
      " |      Class generic exists solely to derive numpy scalars from, and possesses,\n",
      " |      albeit unimplemented, all the attributes of the ndarray class\n",
      " |      so as to provide a uniform API.\n",
      " |      \n",
      " |      See Also\n",
      " |      --------\n",
      " |      The corresponding attribute of the derived class of interest.\n",
      " |  \n",
      " |  ----------------------------------------------------------------------\n",
      " |  Data descriptors inherited from generic:\n",
      " |  \n",
      " |  T\n",
      " |      transpose\n",
      " |  \n",
      " |  __array_interface__\n",
      " |      Array protocol: Python side\n",
      " |  \n",
      " |  __array_priority__\n",
      " |      Array priority.\n",
      " |  \n",
      " |  __array_struct__\n",
      " |      Array protocol: struct\n",
      " |  \n",
      " |  base\n",
      " |      base object\n",
      " |  \n",
      " |  data\n",
      " |      pointer to start of data\n",
      " |  \n",
      " |  dtype\n",
      " |      get array data-descriptor\n",
      " |  \n",
      " |  flags\n",
      " |      integer value of flags\n",
      " |  \n",
      " |  flat\n",
      " |      a 1-d view of scalar\n",
      " |  \n",
      " |  imag\n",
      " |      imaginary part of scalar\n",
      " |  \n",
      " |  itemsize\n",
      " |      length of one element in bytes\n",
      " |  \n",
      " |  nbytes\n",
      " |      length of item in bytes\n",
      " |  \n",
      " |  ndim\n",
      " |      number of array dimensions\n",
      " |  \n",
      " |  real\n",
      " |      real part of scalar\n",
      " |  \n",
      " |  shape\n",
      " |      tuple of array dimensions\n",
      " |  \n",
      " |  size\n",
      " |      number of elements in the gentype\n",
      " |  \n",
      " |  strides\n",
      " |      tuple of bytes steps in each dimension\n",
      "\n"
     ]
    }
   ],
   "source": [
    "help(datetime64)"
   ]
  },
  {
   "cell_type": "code",
   "execution_count": 161,
   "metadata": {},
   "outputs": [
    {
     "data": {
      "text/plain": [
       "numpy.datetime64('1970-01')"
      ]
     },
     "execution_count": 161,
     "metadata": {},
     "output_type": "execute_result"
    }
   ],
   "source": [
    "np.datetime64(0,'M')"
   ]
  },
  {
   "cell_type": "code",
   "execution_count": 162,
   "metadata": {},
   "outputs": [
    {
     "data": {
      "text/plain": [
       "numpy.datetime64('2019-04-11')"
      ]
     },
     "execution_count": 162,
     "metadata": {},
     "output_type": "execute_result"
    }
   ],
   "source": [
    "np.datetime64('today','D') + 1"
   ]
  },
  {
   "cell_type": "code",
   "execution_count": 172,
   "metadata": {},
   "outputs": [
    {
     "data": {
      "text/plain": [
       "numpy.datetime64('2019-04-10')"
      ]
     },
     "execution_count": 172,
     "metadata": {},
     "output_type": "execute_result"
    }
   ],
   "source": [
    "np.datetime64('today','D') + np.timedelta64(day = 1, month = 1)"
   ]
  },
  {
   "cell_type": "code",
   "execution_count": 166,
   "metadata": {},
   "outputs": [
    {
     "data": {
      "text/plain": [
       "numpy.timedelta64(1,'D')"
      ]
     },
     "execution_count": 166,
     "metadata": {},
     "output_type": "execute_result"
    }
   ],
   "source": [
    "np.timedelta64(1,'D')"
   ]
  },
  {
   "cell_type": "code",
   "execution_count": 175,
   "metadata": {},
   "outputs": [
    {
     "data": {
      "text/plain": [
       "array(['2019-04', '2019-05', '2019-06', '2019-07', '2019-08', '2019-09'],\n",
       "      dtype='datetime64[M]')"
      ]
     },
     "execution_count": 175,
     "metadata": {},
     "output_type": "execute_result"
    }
   ],
   "source": [
    "np.arange(np.datetime64('today','m'),'2019-10', dtype = 'datetime64[M]')"
   ]
  },
  {
   "cell_type": "code",
   "execution_count": 176,
   "metadata": {},
   "outputs": [
    {
     "data": {
      "text/plain": [
       "array(['2019-04-10T00:00', '2019-04-10T00:01', '2019-04-10T00:02', ...,\n",
       "       '2019-09-30T23:57', '2019-09-30T23:58', '2019-09-30T23:59'],\n",
       "      dtype='datetime64[m]')"
      ]
     },
     "execution_count": 176,
     "metadata": {},
     "output_type": "execute_result"
    }
   ],
   "source": [
    "np.arange(np.datetime64('today','m'),'2019-10')"
   ]
  },
  {
   "cell_type": "code",
   "execution_count": 180,
   "metadata": {},
   "outputs": [
    {
     "data": {
      "text/plain": [
       "array([[1., 1., 1.],\n",
       "       [1., 1., 1.],\n",
       "       [1., 1., 1.]])"
      ]
     },
     "execution_count": 180,
     "metadata": {},
     "output_type": "execute_result"
    }
   ],
   "source": [
    "np.zeros((3,3)) + 1"
   ]
  },
  {
   "cell_type": "code",
   "execution_count": 183,
   "metadata": {},
   "outputs": [
    {
     "data": {
      "text/plain": [
       "(array([1., 1., 1.]), array([2., 2., 2.]), array([3., 3., 3.]))"
      ]
     },
     "execution_count": 183,
     "metadata": {},
     "output_type": "execute_result"
    }
   ],
   "source": [
    "A = np.ones(3) * 1\n",
    "B = np.ones(3) * 2\n",
    "C = np.ones(3) * 3\n",
    "A,B,C"
   ]
  },
  {
   "cell_type": "code",
   "execution_count": 184,
   "metadata": {},
   "outputs": [
    {
     "data": {
      "text/plain": [
       "array([3., 3., 3.])"
      ]
     },
     "execution_count": 184,
     "metadata": {},
     "output_type": "execute_result"
    }
   ],
   "source": [
    "np.add(A,B)"
   ]
  },
  {
   "cell_type": "code",
   "execution_count": 185,
   "metadata": {},
   "outputs": [
    {
     "data": {
      "text/plain": [
       "array([0.5, 0.5, 0.5])"
      ]
     },
     "execution_count": 185,
     "metadata": {},
     "output_type": "execute_result"
    }
   ],
   "source": [
    "np.divide(A,B)"
   ]
  },
  {
   "cell_type": "code",
   "execution_count": 186,
   "metadata": {},
   "outputs": [
    {
     "data": {
      "text/plain": [
       "array([-1., -1., -1.])"
      ]
     },
     "execution_count": 186,
     "metadata": {},
     "output_type": "execute_result"
    }
   ],
   "source": [
    "np.negative(A,B)"
   ]
  },
  {
   "cell_type": "code",
   "execution_count": 187,
   "metadata": {},
   "outputs": [
    {
     "data": {
      "text/plain": [
       "array([3., 3., 3.])"
      ]
     },
     "execution_count": 187,
     "metadata": {},
     "output_type": "execute_result"
    }
   ],
   "source": [
    "np.multiply(A,C)"
   ]
  },
  {
   "cell_type": "code",
   "execution_count": 189,
   "metadata": {},
   "outputs": [
    {
     "data": {
      "text/plain": [
       "array([8.76323492, 6.10968626, 5.97610788, 4.95025358, 0.91598103,\n",
       "       4.93775005, 7.35080303, 2.5444073 , 5.7096294 , 2.49703253])"
      ]
     },
     "execution_count": 189,
     "metadata": {},
     "output_type": "execute_result"
    }
   ],
   "source": [
    "Z = np.random.uniform(0,10,10)\n",
    "Z\n"
   ]
  },
  {
   "cell_type": "code",
   "execution_count": 190,
   "metadata": {
    "scrolled": true
   },
   "outputs": [
    {
     "name": "stdout",
     "output_type": "stream",
     "text": [
      "[0.76323492 0.10968626 0.97610788 0.95025358 0.91598103 0.93775005\n",
      " 0.35080303 0.5444073  0.7096294  0.49703253]\n"
     ]
    }
   ],
   "source": [
    "print(Z%1)"
   ]
  },
  {
   "cell_type": "code",
   "execution_count": 192,
   "metadata": {},
   "outputs": [
    {
     "name": "stdout",
     "output_type": "stream",
     "text": [
      "[0.76323492 0.10968626 1.97610788 0.95025358 0.91598103 0.93775005\n",
      " 1.35080303 0.5444073  1.7096294  0.49703253]\n"
     ]
    }
   ],
   "source": [
    "print(Z%2)"
   ]
  },
  {
   "cell_type": "code",
   "execution_count": 191,
   "metadata": {},
   "outputs": [
    {
     "name": "stdout",
     "output_type": "stream",
     "text": [
      "[8. 6. 5. 4. 0. 4. 7. 2. 5. 2.]\n"
     ]
    }
   ],
   "source": [
    "print(Z-Z%1)"
   ]
  },
  {
   "cell_type": "code",
   "execution_count": 193,
   "metadata": {},
   "outputs": [
    {
     "name": "stdout",
     "output_type": "stream",
     "text": [
      "[8. 6. 5. 4. 0. 4. 7. 2. 5. 2.]\n"
     ]
    }
   ],
   "source": [
    "print(np.floor(Z))"
   ]
  },
  {
   "cell_type": "code",
   "execution_count": 194,
   "metadata": {},
   "outputs": [
    {
     "name": "stdout",
     "output_type": "stream",
     "text": [
      "[8. 6. 5. 4. 0. 4. 7. 2. 5. 2.]\n"
     ]
    }
   ],
   "source": [
    "print(np.ceil(Z) - 1)"
   ]
  },
  {
   "cell_type": "code",
   "execution_count": 195,
   "metadata": {},
   "outputs": [
    {
     "data": {
      "text/plain": [
       "array([8.76323492, 6.10968626, 5.97610788, 4.95025358, 0.91598103,\n",
       "       4.93775005, 7.35080303, 2.5444073 , 5.7096294 , 2.49703253])"
      ]
     },
     "execution_count": 195,
     "metadata": {},
     "output_type": "execute_result"
    }
   ],
   "source": [
    "Z"
   ]
  },
  {
   "cell_type": "code",
   "execution_count": 196,
   "metadata": {},
   "outputs": [
    {
     "name": "stdout",
     "output_type": "stream",
     "text": [
      "[9. 7. 6. 5. 1. 5. 8. 3. 6. 3.]\n"
     ]
    }
   ],
   "source": [
    "print(np.ceil(Z)) #크거나 같은 정수"
   ]
  },
  {
   "cell_type": "code",
   "execution_count": 197,
   "metadata": {},
   "outputs": [
    {
     "data": {
      "text/plain": [
       "array([8, 6, 5, 4, 0, 4, 7, 2, 5, 2])"
      ]
     },
     "execution_count": 197,
     "metadata": {},
     "output_type": "execute_result"
    }
   ],
   "source": [
    "Z.astype(int)"
   ]
  },
  {
   "cell_type": "code",
   "execution_count": 198,
   "metadata": {},
   "outputs": [
    {
     "data": {
      "text/plain": [
       "array([8., 6., 5., 4., 0., 4., 7., 2., 5., 2.])"
      ]
     },
     "execution_count": 198,
     "metadata": {},
     "output_type": "execute_result"
    }
   ],
   "source": [
    "np.trunc(Z)"
   ]
  },
  {
   "cell_type": "code",
   "execution_count": 199,
   "metadata": {},
   "outputs": [
    {
     "ename": "SyntaxError",
     "evalue": "'yield' outside function (<ipython-input-199-f8c0aa8d516e>, line 1)",
     "output_type": "error",
     "traceback": [
      "\u001b[0;36m  File \u001b[0;32m\"<ipython-input-199-f8c0aa8d516e>\"\u001b[0;36m, line \u001b[0;32m1\u001b[0m\n\u001b[0;31m    yield(1)\u001b[0m\n\u001b[0m            ^\u001b[0m\n\u001b[0;31mSyntaxError\u001b[0m\u001b[0;31m:\u001b[0m 'yield' outside function\n"
     ]
    }
   ],
   "source": [
    "yield(1)"
   ]
  },
  {
   "cell_type": "code",
   "execution_count": 200,
   "metadata": {},
   "outputs": [],
   "source": [
    "def generate():\n",
    "    for x in range(10):\n",
    "        yield(x)"
   ]
  },
  {
   "cell_type": "code",
   "execution_count": 201,
   "metadata": {},
   "outputs": [
    {
     "ename": "NameError",
     "evalue": "name 'gernerate' is not defined",
     "output_type": "error",
     "traceback": [
      "\u001b[0;31m\u001b[0m",
      "\u001b[0;31mNameError\u001b[0mTraceback (most recent call last)",
      "\u001b[0;32m<ipython-input-201-45ea71bab385>\u001b[0m in \u001b[0;36m<module>\u001b[0;34m()\u001b[0m\n\u001b[0;32m----> 1\u001b[0;31m \u001b[0mgernerate\u001b[0m\u001b[0;34m(\u001b[0m\u001b[0;34m)\u001b[0m\u001b[0;34m\u001b[0m\u001b[0m\n\u001b[0m",
      "\u001b[0;31mNameError\u001b[0m: name 'gernerate' is not defined"
     ]
    }
   ],
   "source": [
    "gernerate()"
   ]
  },
  {
   "cell_type": "code",
   "execution_count": 202,
   "metadata": {},
   "outputs": [],
   "source": [
    "#ndarray\n",
    "Z = np.fromiter(generate(), dtype = float, count = -1)"
   ]
  },
  {
   "cell_type": "code",
   "execution_count": 203,
   "metadata": {},
   "outputs": [
    {
     "data": {
      "text/plain": [
       "array([0., 1., 2., 3., 4., 5., 6., 7., 8., 9.])"
      ]
     },
     "execution_count": 203,
     "metadata": {},
     "output_type": "execute_result"
    }
   ],
   "source": [
    "Z"
   ]
  },
  {
   "cell_type": "code",
   "execution_count": 230,
   "metadata": {},
   "outputs": [],
   "source": [
    "z = [i for i in  range(10) if i % 2 == 0]"
   ]
  },
  {
   "cell_type": "code",
   "execution_count": 231,
   "metadata": {},
   "outputs": [
    {
     "data": {
      "text/plain": [
       "[0, 1, 2, 3, 4, 5, 6, 7, 8, 9]"
      ]
     },
     "execution_count": 231,
     "metadata": {},
     "output_type": "execute_result"
    }
   ],
   "source": [
    "[i for i in  range(10) ]"
   ]
  },
  {
   "cell_type": "code",
   "execution_count": 232,
   "metadata": {},
   "outputs": [
    {
     "data": {
      "text/plain": [
       "array([0., 2., 4., 6., 8.])"
      ]
     },
     "execution_count": 232,
     "metadata": {},
     "output_type": "execute_result"
    }
   ],
   "source": [
    "asarray(z,dtype = float)"
   ]
  },
  {
   "cell_type": "code",
   "execution_count": 233,
   "metadata": {},
   "outputs": [
    {
     "data": {
      "text/plain": [
       "array([0.98923645, 0.57149848, 0.816444  , 0.55181917, 0.75885398,\n",
       "       0.56489681, 0.88877999, 0.34500073, 0.46173592, 0.05125309])"
      ]
     },
     "execution_count": 233,
     "metadata": {},
     "output_type": "execute_result"
    }
   ],
   "source": [
    "Z = np.random.random(10)\n",
    "Z"
   ]
  },
  {
   "cell_type": "code",
   "execution_count": 234,
   "metadata": {},
   "outputs": [],
   "source": [
    "Z.sort()"
   ]
  },
  {
   "cell_type": "code",
   "execution_count": 235,
   "metadata": {},
   "outputs": [
    {
     "data": {
      "text/plain": [
       "array([0.05125309, 0.34500073, 0.46173592, 0.55181917, 0.56489681,\n",
       "       0.57149848, 0.75885398, 0.816444  , 0.88877999, 0.98923645])"
      ]
     },
     "execution_count": 235,
     "metadata": {},
     "output_type": "execute_result"
    }
   ],
   "source": [
    "Z"
   ]
  },
  {
   "cell_type": "code",
   "execution_count": 242,
   "metadata": {},
   "outputs": [
    {
     "data": {
      "text/plain": [
       "array([0.98923645, 0.88877999, 0.816444  , 0.75885398, 0.57149848,\n",
       "       0.56489681, 0.55181917, 0.46173592, 0.34500073, 0.05125309])"
      ]
     },
     "execution_count": 242,
     "metadata": {},
     "output_type": "execute_result"
    }
   ],
   "source": [
    "\n",
    "np.sort(Z)[::-1]"
   ]
  },
  {
   "cell_type": "code",
   "execution_count": 246,
   "metadata": {},
   "outputs": [],
   "source": [
    "Z = random.sample(10).tolist()"
   ]
  },
  {
   "cell_type": "code",
   "execution_count": 250,
   "metadata": {},
   "outputs": [
    {
     "data": {
      "text/plain": [
       "array([0.84352931, 0.82685245, 0.81264484, 0.74072246, 0.53811992,\n",
       "       0.51498507, 0.49976476, 0.4033487 , 0.30623201, 0.16709231])"
      ]
     },
     "execution_count": 250,
     "metadata": {},
     "output_type": "execute_result"
    }
   ],
   "source": [
    "sort(Z)[::-1]"
   ]
  },
  {
   "cell_type": "code",
   "execution_count": 252,
   "metadata": {},
   "outputs": [
    {
     "data": {
      "text/plain": [
       "array([0, 1, 2, 3, 4, 5, 6, 7, 8, 9])"
      ]
     },
     "execution_count": 252,
     "metadata": {},
     "output_type": "execute_result"
    }
   ],
   "source": [
    "Z = np.arange(10)\n",
    "Z"
   ]
  },
  {
   "cell_type": "code",
   "execution_count": 255,
   "metadata": {},
   "outputs": [
    {
     "data": {
      "text/plain": [
       "45"
      ]
     },
     "execution_count": 255,
     "metadata": {},
     "output_type": "execute_result"
    }
   ],
   "source": [
    "np.add.reduce(Z)\n",
    "#np.add.reduce가 np.sum보다 빠르다.\n",
    "\n",
    "# how to sum a small array faster than np.sum?"
   ]
  },
  {
   "cell_type": "code",
   "execution_count": 257,
   "metadata": {},
   "outputs": [
    {
     "data": {
      "text/plain": [
       "45"
      ]
     },
     "execution_count": 257,
     "metadata": {},
     "output_type": "execute_result"
    }
   ],
   "source": [
    "np.sum(Z)"
   ]
  },
  {
   "cell_type": "code",
   "execution_count": 259,
   "metadata": {},
   "outputs": [],
   "source": [
    "A = np.random.randint(0,2,5)\n",
    "B = np.random.randint(0,2,5)"
   ]
  },
  {
   "cell_type": "code",
   "execution_count": 261,
   "metadata": {},
   "outputs": [
    {
     "data": {
      "text/plain": [
       "True"
      ]
     },
     "execution_count": 261,
     "metadata": {},
     "output_type": "execute_result"
    }
   ],
   "source": [
    "# 두 ndarray객체element가 어떠한 tolerance한에서 같은지\n",
    "#tolerance는 positive값으로 매우작다.\n",
    "np.allclose(A,A)"
   ]
  },
  {
   "cell_type": "code",
   "execution_count": 264,
   "metadata": {
    "scrolled": true
   },
   "outputs": [
    {
     "data": {
      "text/plain": [
       "False"
      ]
     },
     "execution_count": 264,
     "metadata": {},
     "output_type": "execute_result"
    }
   ],
   "source": [
    "# 두 ndarray객체가 같은 자료를 담고 있고, shape이 같은지 확인\n",
    "np.array_equal(A,B)"
   ]
  },
  {
   "cell_type": "code",
   "execution_count": 273,
   "metadata": {},
   "outputs": [
    {
     "data": {
      "text/plain": [
       "(5,)"
      ]
     },
     "execution_count": 273,
     "metadata": {},
     "output_type": "execute_result"
    }
   ],
   "source": [
    "list1 = np.arange(5)\n",
    "list1.shape"
   ]
  },
  {
   "cell_type": "code",
   "execution_count": 276,
   "metadata": {},
   "outputs": [
    {
     "data": {
      "text/plain": [
       "(2, 3)"
      ]
     },
     "execution_count": 276,
     "metadata": {},
     "output_type": "execute_result"
    }
   ],
   "source": [
    "np.random.random((2,3)).shape"
   ]
  },
  {
   "cell_type": "code",
   "execution_count": 282,
   "metadata": {},
   "outputs": [],
   "source": [
    "list1[list1.max()] =1"
   ]
  },
  {
   "cell_type": "code",
   "execution_count": 285,
   "metadata": {},
   "outputs": [
    {
     "data": {
      "text/plain": [
       "array([0, 1, 2, 3, 1])"
      ]
     },
     "execution_count": 285,
     "metadata": {},
     "output_type": "execute_result"
    }
   ],
   "source": [
    "list1"
   ]
  },
  {
   "cell_type": "code",
   "execution_count": 287,
   "metadata": {},
   "outputs": [
    {
     "data": {
      "text/plain": [
       "3"
      ]
     },
     "execution_count": 287,
     "metadata": {},
     "output_type": "execute_result"
    }
   ],
   "source": [
    "list1.argmax()"
   ]
  },
  {
   "cell_type": "code",
   "execution_count": 288,
   "metadata": {},
   "outputs": [
    {
     "data": {
      "text/plain": [
       "numpy.ndarray"
      ]
     },
     "execution_count": 288,
     "metadata": {},
     "output_type": "execute_result"
    }
   ],
   "source": [
    "type(list1)"
   ]
  },
  {
   "cell_type": "code",
   "execution_count": 291,
   "metadata": {},
   "outputs": [
    {
     "data": {
      "text/plain": [
       "dtype('int64')"
      ]
     },
     "execution_count": 291,
     "metadata": {},
     "output_type": "execute_result"
    }
   ],
   "source": [
    "list1.dtype"
   ]
  },
  {
   "cell_type": "code",
   "execution_count": 292,
   "metadata": {},
   "outputs": [
    {
     "data": {
      "text/plain": [
       "array([0.  , 0.25, 0.5 , 0.75, 1.  ])"
      ]
     },
     "execution_count": 292,
     "metadata": {},
     "output_type": "execute_result"
    }
   ],
   "source": [
    "np.linspace(0,1,5)"
   ]
  },
  {
   "cell_type": "code",
   "execution_count": 308,
   "metadata": {},
   "outputs": [
    {
     "data": {
      "text/plain": [
       "array([0.   , 0.125, 0.25 , 0.375, 0.5  , 0.625, 0.75 , 0.875, 1.   ])"
      ]
     },
     "execution_count": 308,
     "metadata": {},
     "output_type": "execute_result"
    }
   ],
   "source": [
    "np.linspace(0,1,9)"
   ]
  },
  {
   "cell_type": "code",
   "execution_count": 310,
   "metadata": {},
   "outputs": [],
   "source": [
    "tmp = range(0,1,10)"
   ]
  },
  {
   "cell_type": "code",
   "execution_count": 311,
   "metadata": {},
   "outputs": [
    {
     "data": {
      "text/plain": [
       "range(0, 1, 10)"
      ]
     },
     "execution_count": 311,
     "metadata": {},
     "output_type": "execute_result"
    }
   ],
   "source": [
    "tmp"
   ]
  },
  {
   "cell_type": "code",
   "execution_count": 312,
   "metadata": {},
   "outputs": [
    {
     "data": {
      "text/plain": [
       "range"
      ]
     },
     "execution_count": 312,
     "metadata": {},
     "output_type": "execute_result"
    }
   ],
   "source": [
    "type(tmp)"
   ]
  },
  {
   "cell_type": "code",
   "execution_count": 313,
   "metadata": {},
   "outputs": [
    {
     "ename": "AttributeError",
     "evalue": "'range' object has no attribute 'dtype'",
     "output_type": "error",
     "traceback": [
      "\u001b[0;31m\u001b[0m",
      "\u001b[0;31mAttributeError\u001b[0mTraceback (most recent call last)",
      "\u001b[0;32m<ipython-input-313-73d17b927b25>\u001b[0m in \u001b[0;36m<module>\u001b[0;34m()\u001b[0m\n\u001b[0;32m----> 1\u001b[0;31m \u001b[0mtmp\u001b[0m\u001b[0;34m.\u001b[0m\u001b[0mdtype\u001b[0m\u001b[0;34m\u001b[0m\u001b[0m\n\u001b[0m",
      "\u001b[0;31mAttributeError\u001b[0m: 'range' object has no attribute 'dtype'"
     ]
    }
   ],
   "source": [
    "tmp.dtype"
   ]
  },
  {
   "cell_type": "code",
   "execution_count": 314,
   "metadata": {},
   "outputs": [
    {
     "data": {
      "text/plain": [
       "array([ 1.,  4.,  7., 10.])"
      ]
     },
     "execution_count": 314,
     "metadata": {},
     "output_type": "execute_result"
    }
   ],
   "source": [
    "np.linspace(1,10,4)"
   ]
  },
  {
   "cell_type": "code",
   "execution_count": 294,
   "metadata": {},
   "outputs": [
    {
     "data": {
      "text/plain": [
       "array([0., 0., 0., 0., 0., 0., 0., 0., 0., 0.])"
      ]
     },
     "execution_count": 294,
     "metadata": {},
     "output_type": "execute_result"
    }
   ],
   "source": [
    "np.zeros(10)"
   ]
  },
  {
   "cell_type": "code",
   "execution_count": 296,
   "metadata": {},
   "outputs": [],
   "source": [
    "Z = np.zeros(10, [('position',[ ('x', float, 1 ),\n",
    "                            ('y', float, 1)]),\n",
    "              ('color',[ ('r' ,float, 1),\n",
    "                         ('g', float, 1),\n",
    "                        ('b', float, 1)])])"
   ]
  },
  {
   "cell_type": "code",
   "execution_count": 298,
   "metadata": {},
   "outputs": [
    {
     "data": {
      "text/plain": [
       "(10,)"
      ]
     },
     "execution_count": 298,
     "metadata": {},
     "output_type": "execute_result"
    }
   ],
   "source": [
    "Z.shape"
   ]
  },
  {
   "cell_type": "code",
   "execution_count": 299,
   "metadata": {},
   "outputs": [
    {
     "data": {
      "text/plain": [
       "(10,)"
      ]
     },
     "execution_count": 299,
     "metadata": {},
     "output_type": "execute_result"
    }
   ],
   "source": [
    "np.arange(10).shape"
   ]
  },
  {
   "cell_type": "code",
   "execution_count": 301,
   "metadata": {
    "scrolled": true
   },
   "outputs": [
    {
     "data": {
      "text/plain": [
       "array([[0, 1, 2, 3, 4],\n",
       "       [5, 6, 7, 8, 9]])"
      ]
     },
     "execution_count": 301,
     "metadata": {},
     "output_type": "execute_result"
    }
   ],
   "source": [
    "np.arange(10).reshape((2,5))"
   ]
  },
  {
   "cell_type": "code",
   "execution_count": 306,
   "metadata": {},
   "outputs": [
    {
     "data": {
      "text/plain": [
       "array([[5, 6, 7, 8, 9],\n",
       "       [0, 1, 2, 3, 4]])"
      ]
     },
     "execution_count": 306,
     "metadata": {},
     "output_type": "execute_result"
    }
   ],
   "source": [
    "np.arange(10).reshape(2,5)[::-1]"
   ]
  },
  {
   "cell_type": "code",
   "execution_count": 307,
   "metadata": {
    "scrolled": true
   },
   "outputs": [
    {
     "ename": "AttributeError",
     "evalue": "'numpy.ndarray' object has no attribute 'reverse'",
     "output_type": "error",
     "traceback": [
      "\u001b[0;31m\u001b[0m",
      "\u001b[0;31mAttributeError\u001b[0mTraceback (most recent call last)",
      "\u001b[0;32m<ipython-input-307-eeb38e64808e>\u001b[0m in \u001b[0;36m<module>\u001b[0;34m()\u001b[0m\n\u001b[0;32m----> 1\u001b[0;31m \u001b[0mnp\u001b[0m\u001b[0;34m.\u001b[0m\u001b[0marange\u001b[0m\u001b[0;34m(\u001b[0m\u001b[0;36m10\u001b[0m\u001b[0;34m)\u001b[0m\u001b[0;34m.\u001b[0m\u001b[0mreshape\u001b[0m\u001b[0;34m(\u001b[0m\u001b[0;36m2\u001b[0m\u001b[0;34m,\u001b[0m\u001b[0;36m5\u001b[0m\u001b[0;34m)\u001b[0m\u001b[0;34m.\u001b[0m\u001b[0mreverse\u001b[0m\u001b[0;34m(\u001b[0m\u001b[0;32mTrue\u001b[0m\u001b[0;34m)\u001b[0m\u001b[0;34m\u001b[0m\u001b[0m\n\u001b[0m",
      "\u001b[0;31mAttributeError\u001b[0m: 'numpy.ndarray' object has no attribute 'reverse'"
     ]
    }
   ],
   "source": [
    "np.arange(10).reshape(2,5).reverse(True)"
   ]
  },
  {
   "cell_type": "code",
   "execution_count": 317,
   "metadata": {},
   "outputs": [],
   "source": [
    "# enumerate\n",
    "# : \"열거히다\", index를 포함하는 객체로 return\n",
    "# 보통 enumerate함수는 아래 예제처럼 for문과 함께 자주 사용된다."
   ]
  },
  {
   "cell_type": "code",
   "execution_count": 318,
   "metadata": {},
   "outputs": [
    {
     "name": "stdout",
     "output_type": "stream",
     "text": [
      "0 0\n",
      "1 100\n",
      "2 200\n",
      "3 300\n",
      "4 400\n",
      "5 500\n",
      "6 600\n",
      "7 700\n",
      "8 800\n",
      "9 900\n"
     ]
    }
   ],
   "source": [
    "for i,name in enumerate(np.arange(10)*100):\n",
    "    print(i, name)"
   ]
  },
  {
   "cell_type": "code",
   "execution_count": 320,
   "metadata": {
    "scrolled": true
   },
   "outputs": [],
   "source": [
    "#가우시안 표준정규분포\n",
    "X = np.random.randn(10)"
   ]
  },
  {
   "cell_type": "code",
   "execution_count": 321,
   "metadata": {},
   "outputs": [
    {
     "data": {
      "text/plain": [
       "10"
      ]
     },
     "execution_count": 321,
     "metadata": {},
     "output_type": "execute_result"
    }
   ],
   "source": [
    "X.size"
   ]
  },
  {
   "cell_type": "code",
   "execution_count": 331,
   "metadata": {},
   "outputs": [
    {
     "data": {
      "text/plain": [
       "array([ 1.06150595, -0.13012118, -0.39791753, -0.44088924, -0.68888695,\n",
       "       -0.63233297,  0.45011891, -0.42485435,  2.42117027,  0.4150339 ])"
      ]
     },
     "execution_count": 331,
     "metadata": {},
     "output_type": "execute_result"
    }
   ],
   "source": [
    "X"
   ]
  },
  {
   "cell_type": "code",
   "execution_count": 335,
   "metadata": {
    "scrolled": true
   },
   "outputs": [],
   "source": [
    "mat = np.random.randint(0,10,(5,10))"
   ]
  },
  {
   "cell_type": "code",
   "execution_count": 336,
   "metadata": {},
   "outputs": [
    {
     "data": {
      "text/plain": [
       "array([[6, 5, 5, 6, 1, 4, 4, 8, 1, 1],\n",
       "       [9, 9, 9, 3, 1, 0, 0, 5, 8, 7],\n",
       "       [8, 3, 9, 7, 8, 0, 5, 8, 2, 6],\n",
       "       [6, 0, 3, 8, 2, 9, 8, 1, 9, 3],\n",
       "       [0, 9, 4, 0, 7, 1, 7, 4, 8, 7]])"
      ]
     },
     "execution_count": 336,
     "metadata": {},
     "output_type": "execute_result"
    }
   ],
   "source": [
    "mat"
   ]
  },
  {
   "cell_type": "code",
   "execution_count": 352,
   "metadata": {},
   "outputs": [
    {
     "data": {
      "text/plain": [
       "array([ 1.06150595, -0.13012118, -0.39791753, -0.44088924, -0.68888695,\n",
       "       -0.63233297,  0.45011891, -0.42485435,  2.42117027,  0.4150339 ])"
      ]
     },
     "execution_count": 352,
     "metadata": {},
     "output_type": "execute_result"
    }
   ],
   "source": [
    "X"
   ]
  },
  {
   "cell_type": "code",
   "execution_count": 351,
   "metadata": {},
   "outputs": [
    {
     "data": {
      "text/plain": [
       "array([[ 0.45011891, -0.63233297, -0.63233297,  0.45011891, -0.13012118,\n",
       "        -0.68888695, -0.68888695,  2.42117027, -0.13012118, -0.13012118],\n",
       "       [ 0.4150339 ,  0.4150339 ,  0.4150339 , -0.44088924, -0.13012118,\n",
       "         1.06150595,  1.06150595, -0.63233297,  2.42117027, -0.42485435],\n",
       "       [ 2.42117027, -0.44088924,  0.4150339 , -0.42485435,  2.42117027,\n",
       "         1.06150595, -0.63233297,  2.42117027, -0.39791753,  0.45011891],\n",
       "       [ 0.45011891,  1.06150595, -0.44088924,  2.42117027, -0.39791753,\n",
       "         0.4150339 ,  2.42117027, -0.13012118,  0.4150339 , -0.44088924],\n",
       "       [ 1.06150595,  0.4150339 , -0.68888695,  1.06150595, -0.42485435,\n",
       "        -0.13012118, -0.42485435, -0.68888695,  2.42117027, -0.42485435]])"
      ]
     },
     "execution_count": 351,
     "metadata": {},
     "output_type": "execute_result"
    }
   ],
   "source": [
    "X[mat]"
   ]
  },
  {
   "cell_type": "code",
   "execution_count": 337,
   "metadata": {},
   "outputs": [
    {
     "data": {
      "text/plain": [
       "array([4.1, 5.1, 5.6, 4.9, 4.7])"
      ]
     },
     "execution_count": 337,
     "metadata": {},
     "output_type": "execute_result"
    }
   ],
   "source": [
    "mat.mean(axis=1)\n",
    "# axis = 0 열기준"
   ]
  },
  {
   "cell_type": "code",
   "execution_count": 340,
   "metadata": {},
   "outputs": [],
   "source": [
    "percent = mat.mean(axis= 0)"
   ]
  },
  {
   "cell_type": "code",
   "execution_count": 341,
   "metadata": {},
   "outputs": [
    {
     "data": {
      "text/plain": [
       "array([3.025, 5.946])"
      ]
     },
     "execution_count": 341,
     "metadata": {},
     "output_type": "execute_result"
    }
   ],
   "source": [
    "np.percentile(percent,[2.5,97])"
   ]
  },
  {
   "cell_type": "code",
   "execution_count": 353,
   "metadata": {},
   "outputs": [],
   "source": [
    "A = np.arange(10)+1"
   ]
  },
  {
   "cell_type": "code",
   "execution_count": 354,
   "metadata": {},
   "outputs": [
    {
     "data": {
      "text/plain": [
       "array([ 1,  2,  3,  4,  5,  6,  7,  8,  9, 10])"
      ]
     },
     "execution_count": 354,
     "metadata": {},
     "output_type": "execute_result"
    }
   ],
   "source": [
    "A"
   ]
  },
  {
   "cell_type": "code",
   "execution_count": 361,
   "metadata": {},
   "outputs": [],
   "source": [
    "B = (np.zeros(20)+2).reshape(2,10)"
   ]
  },
  {
   "cell_type": "code",
   "execution_count": 363,
   "metadata": {},
   "outputs": [
    {
     "data": {
      "text/plain": [
       "array([[2, 2, 2, 2, 2, 2, 2, 2, 2, 2],\n",
       "       [2, 2, 2, 2, 2, 2, 2, 2, 2, 2]])"
      ]
     },
     "execution_count": 363,
     "metadata": {},
     "output_type": "execute_result"
    }
   ],
   "source": [
    "B.astype(int)"
   ]
  },
  {
   "cell_type": "code",
   "execution_count": 364,
   "metadata": {},
   "outputs": [
    {
     "ename": "IndexError",
     "evalue": "arrays used as indices must be of integer (or boolean) type",
     "output_type": "error",
     "traceback": [
      "\u001b[0;31m\u001b[0m",
      "\u001b[0;31mIndexError\u001b[0mTraceback (most recent call last)",
      "\u001b[0;32m<ipython-input-364-1e293f564407>\u001b[0m in \u001b[0;36m<module>\u001b[0;34m()\u001b[0m\n\u001b[0;32m----> 1\u001b[0;31m \u001b[0mA\u001b[0m\u001b[0;34m[\u001b[0m\u001b[0mB\u001b[0m\u001b[0;34m]\u001b[0m\u001b[0;34m\u001b[0m\u001b[0m\n\u001b[0m",
      "\u001b[0;31mIndexError\u001b[0m: arrays used as indices must be of integer (or boolean) type"
     ]
    }
   ],
   "source": [
    "A[B]"
   ]
  },
  {
   "cell_type": "code",
   "execution_count": 366,
   "metadata": {},
   "outputs": [
    {
     "data": {
      "text/plain": [
       "array([ 2, 12])"
      ]
     },
     "execution_count": 366,
     "metadata": {},
     "output_type": "execute_result"
    }
   ],
   "source": [
    "lst = [\n",
    "    [1, 2, 3, 4],\n",
    "    [5, 6, 7, 8],\n",
    "    [9, 10, 11, 12]\n",
    "]\n",
    "a = np.array(lst)\n",
    " \n",
    "# 정수 인덱싱\n",
    "s = a[[0, 2], [1, 3]]\n",
    "s"
   ]
  },
  {
   "cell_type": "code",
   "execution_count": 367,
   "metadata": {},
   "outputs": [
    {
     "data": {
      "text/plain": [
       "array([[ 1,  2,  3,  4],\n",
       "       [ 5,  6,  7,  8],\n",
       "       [ 9, 10, 11, 12]])"
      ]
     },
     "execution_count": 367,
     "metadata": {},
     "output_type": "execute_result"
    }
   ],
   "source": [
    "a"
   ]
  }
 ],
 "metadata": {
  "kernelspec": {
   "display_name": "Python 3",
   "language": "python",
   "name": "python3"
  },
  "language_info": {
   "codemirror_mode": {
    "name": "ipython",
    "version": 3
   },
   "file_extension": ".py",
   "mimetype": "text/x-python",
   "name": "python",
   "nbconvert_exporter": "python",
   "pygments_lexer": "ipython3",
   "version": "3.5.2"
  }
 },
 "nbformat": 4,
 "nbformat_minor": 2
}
