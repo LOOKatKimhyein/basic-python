{
 "cells": [
  {
   "cell_type": "markdown",
   "metadata": {},
   "source": [
    "출처 :\n",
    "http://byteofpython-korean.sourceforge.net/byte_of_python.pdf\n",
    "\n",
    "이 교재를 보고 따라하며 학습하였습니다.\n",
    "2019년 04 월 02 일\n"
   ]
  },
  {
   "cell_type": "code",
   "execution_count": 1,
   "metadata": {},
   "outputs": [],
   "source": [
    "#주석 혹은 파이썬 코드에 한글이 들어간다면 첫번때 혹은 두번째줄에\n",
    " # coding = cp949"
   ]
  },
  {
   "cell_type": "markdown",
   "metadata": {},
   "source": [
    "기초_문자열 formatting"
   ]
  },
  {
   "cell_type": "code",
   "execution_count": 2,
   "metadata": {},
   "outputs": [
    {
     "name": "stdout",
     "output_type": "stream",
     "text": [
      "Swaroop was 20 years old when he wrote this book\n"
     ]
    }
   ],
   "source": [
    "\n",
    "'''\n",
    "c.f.\n",
    "이렇게 하면 여러 줄로 주석\n",
    "처리가 가능하지요\n",
    "\n",
    "'''\n",
    "age = 20\n",
    "name = 'Swaroop'\n",
    "\n",
    "print (\"{} was {} years old when he wrote this book\".format(name, age))"
   ]
  },
  {
   "cell_type": "code",
   "execution_count": 3,
   "metadata": {},
   "outputs": [
    {
     "name": "stdout",
     "output_type": "stream",
     "text": [
      "-----hello------\n"
     ]
    }
   ],
   "source": [
    "print('{0:-^16}'.format('hello'))\n",
    "#가운데 정렬 ^"
   ]
  },
  {
   "cell_type": "code",
   "execution_count": 4,
   "metadata": {},
   "outputs": [
    {
     "name": "stdout",
     "output_type": "stream",
     "text": [
      "0.0509\n"
     ]
    }
   ],
   "source": [
    "num = 23/452\n",
    "print('{0:.4f}'.format(num))"
   ]
  },
  {
   "cell_type": "code",
   "execution_count": 5,
   "metadata": {},
   "outputs": [
    {
     "name": "stdout",
     "output_type": "stream",
     "text": [
      "0.2535\n"
     ]
    }
   ],
   "source": [
    "num = 0.253456345\n",
    "# . 다음숫자(f앞에 숫자)는 소숫점 몇째자리 할꺼니?에 대한 것.\n",
    "print('{0:.4f}'.format(num))"
   ]
  },
  {
   "cell_type": "code",
   "execution_count": 26,
   "metadata": {},
   "outputs": [
    {
     "name": "stdout",
     "output_type": "stream",
     "text": [
      "  36.00000\n"
     ]
    }
   ],
   "source": [
    "num = 36\n",
    "#.뒤에 숫자는 소숫점 아래 몇째자리 ?\n",
    "# .앞에 숫자는 전체 공간(여백은 공백으로 출력)\n",
    "\n",
    "print('%10.5f'%num)"
   ]
  },
  {
   "cell_type": "code",
   "execution_count": 30,
   "metadata": {},
   "outputs": [
    {
     "name": "stdout",
     "output_type": "stream",
     "text": [
      "36.00000000000000000000\n"
     ]
    }
   ],
   "source": [
    "#전체 20칸,\n",
    "print('%20.20f'%num)"
   ]
  },
  {
   "cell_type": "code",
   "execution_count": 6,
   "metadata": {},
   "outputs": [
    {
     "name": "stdout",
     "output_type": "stream",
     "text": [
      "hyein's age is 24\n"
     ]
    }
   ],
   "source": [
    "name = 'hyein'\n",
    "age = 24\n",
    "print(\"{name}'s age is {age}\".format(name = name, age = age) )"
   ]
  },
  {
   "cell_type": "markdown",
   "metadata": {},
   "source": [
    "5.12 변수"
   ]
  },
  {
   "cell_type": "code",
   "execution_count": 7,
   "metadata": {},
   "outputs": [
    {
     "name": "stdout",
     "output_type": "stream",
     "text": [
      "This is the first line\n",
      "This is the second line\n"
     ]
    }
   ],
   "source": [
    "lines = '''This is the first line\n",
    "This is the second line'''\n",
    "\n",
    "print(lines)"
   ]
  },
  {
   "cell_type": "code",
   "execution_count": 8,
   "metadata": {},
   "outputs": [
    {
     "name": "stdout",
     "output_type": "stream",
     "text": [
      "front and...second\n"
     ]
    }
   ],
   "source": [
    "s = 'front and...\\\n",
    "second'\n",
    "print(s)"
   ]
  },
  {
   "cell_type": "code",
   "execution_count": 9,
   "metadata": {},
   "outputs": [
    {
     "name": "stdout",
     "output_type": "stream",
     "text": [
      "input value :10\n",
      "you missed, the number is higher than this\n",
      "done\n"
     ]
    }
   ],
   "source": [
    "s = 12\n",
    "#input으로 들어가면 string\n",
    "#raw_input은 파이썬 3.X에서는 지원하지 않는다.\n",
    "while True:\n",
    "    guess = int(input(\"input value :\" ))\n",
    "    if guess == s:\n",
    "        print(\"you guessed it!\")\n",
    "    elif guess < s :\n",
    "        print(\"you missed, the number is higher than this\")\n",
    "    else :\n",
    "        print(\"you missed, the number is lower than this\")\n",
    "\n",
    "    print(\"done\")\n",
    "    \n",
    "    if guess == 10:\n",
    "        break"
   ]
  },
  {
   "cell_type": "code",
   "execution_count": 10,
   "metadata": {},
   "outputs": [
    {
     "name": "stdout",
     "output_type": "stream",
     "text": [
      "1\n",
      "1   10\n",
      "2\n",
      "2   20\n",
      "3\n",
      "3   30\n",
      "4\n",
      "4   40\n",
      "5\n",
      "6\n",
      "6   60\n",
      "7\n",
      "7   70\n",
      "8\n",
      "8   80\n",
      "9\n",
      "9   90\n",
      "10\n",
      "10   100\n"
     ]
    },
    {
     "data": {
      "text/plain": [
       "'\\ncontinue는 특정조건에서만 코드를 실행하지 않고 다음으로 \\n넘어가고자 할때 사용\\n* break는 아예 반복문/조건문에서 빠져나온다.\\n* continue는 특정 조건일때만 실행하지 않고 다시 loop를 실행한다.\\n'"
      ]
     },
     "execution_count": 10,
     "metadata": {},
     "output_type": "execute_result"
    }
   ],
   "source": [
    "#continue\n",
    "num = 0\n",
    "while num <10:\n",
    "    num +=1\n",
    "    print(num)\n",
    "    if num ==5:\n",
    "        \n",
    "        continue\n",
    "        \n",
    "    print(num, ' ', num*10)\n",
    "\n",
    "'''\n",
    "continue는 특정조건에서만 코드를 실행하지 않고 다음으로 \n",
    "넘어가고자 할때 사용\n",
    "* break는 아예 반복문/조건문에서 빠져나온다.\n",
    "* continue는 특정 조건일때만 실행하지 않고 다시 loop를 실행한다.\n",
    "'''"
   ]
  },
  {
   "cell_type": "markdown",
   "metadata": {},
   "source": [
    "8장. 함수만들기"
   ]
  },
  {
   "cell_type": "code",
   "execution_count": 33,
   "metadata": {},
   "outputs": [],
   "source": [
    "def printer():\n",
    "    print('just practice')\n"
   ]
  },
  {
   "cell_type": "code",
   "execution_count": 34,
   "metadata": {},
   "outputs": [
    {
     "name": "stdout",
     "output_type": "stream",
     "text": [
      "just practice\n"
     ]
    }
   ],
   "source": [
    "printer()"
   ]
  },
  {
   "cell_type": "code",
   "execution_count": 31,
   "metadata": {},
   "outputs": [],
   "source": [
    "#함수와 매개변수\n",
    "def func2(a,b):\n",
    "    if a == b:\n",
    "        print(a,'is equal to',b)\n",
    "    elif  a > b:\n",
    "        print(a, 'is larger than',b)\n",
    "    else :\n",
    "        print(a,'is smaller than',b)"
   ]
  },
  {
   "cell_type": "code",
   "execution_count": 32,
   "metadata": {},
   "outputs": [
    {
     "name": "stdout",
     "output_type": "stream",
     "text": [
      "2 is smaller than 6\n",
      "None\n"
     ]
    }
   ],
   "source": [
    "print(func2(2,6))"
   ]
  },
  {
   "cell_type": "markdown",
   "metadata": {},
   "source": [
    "local variable vs. global variable"
   ]
  },
  {
   "cell_type": "code",
   "execution_count": 35,
   "metadata": {},
   "outputs": [
    {
     "name": "stdout",
     "output_type": "stream",
     "text": [
      "globalnum is  100\n",
      "changed globalnum is  2000\n",
      "2000\n"
     ]
    }
   ],
   "source": [
    "#모든 변수들은 변수가 정의되는 시점에서의 블록을 scope로 가지게 됩니다.\n",
    "# 지역변수 개념은 함수에서 존재\n",
    "\n",
    "#조건문에서는 X\n",
    "globalnum = 100\n",
    "if globalnum>0 :\n",
    "    print(\"globalnum is \",globalnum)\n",
    "    globalnum = globalnum * 20\n",
    "    print(\"changed globalnum is \", globalnum)\n",
    "\n",
    "print(globalnum)"
   ]
  },
  {
   "cell_type": "code",
   "execution_count": 36,
   "metadata": {},
   "outputs": [],
   "source": [
    "x = 50 \n",
    "def func2(x):\n",
    "    print('x is ',x)\n",
    "    x = 2\n",
    "    print('x is ',x)\n",
    "\n"
   ]
  },
  {
   "cell_type": "code",
   "execution_count": 37,
   "metadata": {},
   "outputs": [
    {
     "name": "stdout",
     "output_type": "stream",
     "text": [
      "x is  30\n",
      "x is  2\n"
     ]
    }
   ],
   "source": [
    "func2(30)"
   ]
  },
  {
   "cell_type": "code",
   "execution_count": 38,
   "metadata": {},
   "outputs": [
    {
     "data": {
      "text/plain": [
       "50"
      ]
     },
     "execution_count": 38,
     "metadata": {},
     "output_type": "execute_result"
    }
   ],
   "source": [
    "x"
   ]
  },
  {
   "cell_type": "markdown",
   "metadata": {},
   "source": [
    "global문\n",
    ": 함수나 클래스 scope외에서 선언된 변수를, 함수나 클래스 안에서 사용하고자 할때\n",
    "사용하고자 하는 변수를 local 변수가 아닌 global변수라고 선언해줘야 한다.\n",
    "\n",
    "변수 이름앞에 global이라고 적어주기"
   ]
  },
  {
   "cell_type": "code",
   "execution_count": 41,
   "metadata": {},
   "outputs": [
    {
     "name": "stdout",
     "output_type": "stream",
     "text": [
      "x is  50\n",
      "x is  2\n"
     ]
    },
    {
     "data": {
      "text/plain": [
       "2"
      ]
     },
     "execution_count": 41,
     "metadata": {},
     "output_type": "execute_result"
    }
   ],
   "source": [
    "x = 50\n",
    "def func():\n",
    "    global x #point!!!!!!!!!!!11\n",
    "    \n",
    "    print('x is ',x)\n",
    "    x = 2\n",
    "    print ('x is ',x)\n",
    "    \n",
    "func()\n",
    "x\n",
    "\n",
    "'''\n",
    "*point*\n",
    "1. x를 global이라고 지정해서\n",
    "func에 x라고 인자를 넣을수 없다.\n",
    "\n",
    "2. global x라고 선언해주었기때문에\n",
    "함수안에서 x가 변하면, 메인 블로그이 x도 변한다.\n",
    "'''"
   ]
  },
  {
   "cell_type": "code",
   "execution_count": 44,
   "metadata": {
    "scrolled": true
   },
   "outputs": [
    {
     "ename": "SyntaxError",
     "evalue": "name 'x' is parameter and global (cell_name, line 6)",
     "output_type": "error",
     "traceback": [
      "\u001b[0;36m  File \u001b[0;32m\"cell_name\"\u001b[0;36m, line \u001b[0;32m6\u001b[0m\n\u001b[0;31mSyntaxError\u001b[0m\u001b[0;31m:\u001b[0m name 'x' is parameter and global\n"
     ]
    }
   ],
   "source": []
  },
  {
   "cell_type": "markdown",
   "metadata": {},
   "source": [
    "기본 인수값 설정"
   ]
  },
  {
   "cell_type": "code",
   "execution_count": 49,
   "metadata": {},
   "outputs": [
    {
     "name": "stdout",
     "output_type": "stream",
     "text": [
      "yammy yammy yammy yammy yammy \n"
     ]
    }
   ],
   "source": [
    "def hi(hi , rep = 5):\n",
    "    print(hi * rep)\n",
    "hi('yammy ')"
   ]
  },
  {
   "cell_type": "markdown",
   "metadata": {},
   "source": [
    "키워드 인수\n",
    "def func(a= 2,b,c = 3):\n",
    "이런식으로 함수 인자에 이름을 넣어줘서 순서가 아닌\n",
    "함수 이름지정으로 인자를 넣어줄수 있는 것."
   ]
  },
  {
   "cell_type": "markdown",
   "metadata": {},
   "source": [
    "VarArgs 매개 변수\n",
    "*args   **args"
   ]
  },
  {
   "cell_type": "code",
   "execution_count": 54,
   "metadata": {},
   "outputs": [
    {
     "name": "stdout",
     "output_type": "stream",
     "text": [
      "가 리 6\n"
     ]
    }
   ],
   "source": [
    "#기존에 내가 알고있던 함수 형태\n",
    "def test(arg1, arg2, arg3):\n",
    "    print(arg1, arg2, arg3)\n",
    "    \n",
    "test('가','리',6)"
   ]
  },
  {
   "cell_type": "code",
   "execution_count": 61,
   "metadata": {},
   "outputs": [
    {
     "name": "stdout",
     "output_type": "stream",
     "text": [
      "tell ne 4\n"
     ]
    }
   ],
   "source": [
    "'''\n",
    "*로 묶이면 args이름의 튜플로 묶여서 넘어온다\n",
    "**로 묶이면 args이름의 dictionary로 묶여서 넘어온다\n",
    "'''\n",
    "args = (\"tell\",'ne',4)\n",
    "test(*args)"
   ]
  },
  {
   "cell_type": "code",
   "execution_count": 68,
   "metadata": {},
   "outputs": [
    {
     "name": "stdout",
     "output_type": "stream",
     "text": [
      "100 2 4\n"
     ]
    }
   ],
   "source": [
    "# 이때 dictionary label명은 함수에서 불러들이는 인자명과 같아야 한다.\n",
    "\n",
    "args = {'arg1' : 100, 'arg2'  :2, 'arg3' : 4}\n",
    "test(**args)\n"
   ]
  },
  {
   "cell_type": "code",
   "execution_count": 72,
   "metadata": {},
   "outputs": [
    {
     "name": "stdout",
     "output_type": "stream",
     "text": [
      "1 2 4\n"
     ]
    }
   ],
   "source": [
    "\n",
    "args = {'arg2'  :2, 'arg3' : 4}\n",
    "test(1,**args)"
   ]
  },
  {
   "cell_type": "code",
   "execution_count": 78,
   "metadata": {},
   "outputs": [],
   "source": [
    "def total(initial = 5, *values, **values2):\n",
    "    count = initial\n",
    "    count2=   0\n",
    "    for value in values:\n",
    "        count += value\n",
    "    for value2 in values2:\n",
    "        count2 += values2[value2]    # 여기 주의1!!!!\n",
    "    return count, count2"
   ]
  },
  {
   "cell_type": "code",
   "execution_count": 79,
   "metadata": {},
   "outputs": [
    {
     "data": {
      "text/plain": [
       "(27, 10)"
      ]
     },
     "execution_count": 79,
     "metadata": {},
     "output_type": "execute_result"
    }
   ],
   "source": [
    "total(1,5,6,7,8,fruits= 10)"
   ]
  },
  {
   "cell_type": "code",
   "execution_count": 87,
   "metadata": {},
   "outputs": [
    {
     "data": {
      "text/plain": [
       "100"
      ]
     },
     "execution_count": 87,
     "metadata": {},
     "output_type": "execute_result"
    }
   ],
   "source": [
    "diction = {'red' : 100,2:300}\n",
    "diction['red']"
   ]
  },
  {
   "cell_type": "markdown",
   "metadata": {},
   "source": [
    "return vs. print\n",
    ": \n",
    "return은 따옴표 포함해서 저장"
   ]
  },
  {
   "cell_type": "code",
   "execution_count": 102,
   "metadata": {},
   "outputs": [],
   "source": [
    "def example_return():\n",
    "    return 'hello'\n",
    "\n",
    "def example_print():\n",
    "    print(\"hello\")"
   ]
  },
  {
   "cell_type": "code",
   "execution_count": 101,
   "metadata": {},
   "outputs": [
    {
     "name": "stdout",
     "output_type": "stream",
     "text": [
      "hello\n"
     ]
    }
   ],
   "source": [
    "v = example_print()\n",
    "v"
   ]
  },
  {
   "cell_type": "code",
   "execution_count": 103,
   "metadata": {
    "scrolled": true
   },
   "outputs": [
    {
     "data": {
      "text/plain": [
       "'hello'"
      ]
     },
     "execution_count": 103,
     "metadata": {},
     "output_type": "execute_result"
    }
   ],
   "source": [
    "w = example_return()\n",
    "w"
   ]
  },
  {
   "cell_type": "markdown",
   "metadata": {},
   "source": [
    "DocString : Document + String\n"
   ]
  },
  {
   "cell_type": "code",
   "execution_count": 104,
   "metadata": {},
   "outputs": [],
   "source": [
    "def print_max(x,y):\n",
    "    '''Print the max_value\n",
    "    \n",
    "    The values must be integers.''' #일반적으로 첫째줄의 첫문자는 대문자, 마지막 문자는 마침표\n",
    "    #두번째 줄은 비운다!(이 rule을 따르기를 권한다고 한다.)\n",
    "    \n",
    "    x = int(x)\n",
    "    y = int(y)\n",
    "    if x>y:\n",
    "        print (x,'is best')\n",
    "    else:\n",
    "        print(x,'is not the largest one.')"
   ]
  },
  {
   "cell_type": "code",
   "execution_count": 107,
   "metadata": {},
   "outputs": [
    {
     "name": "stdout",
     "output_type": "stream",
     "text": [
      "Help on function print_max in module __main__:\n",
      "\n",
      "print_max(x, y)\n",
      "    Print the max_value\n",
      "    \n",
      "    The values must be integers.\n",
      "\n"
     ]
    }
   ],
   "source": [
    "# help(함수명)을 통해 함수에 저장되어있는 DocString 확인 가능하다.\n",
    "#help()는 모듈이나 함수 검색가능\n",
    "help(print_max)"
   ]
  },
  {
   "cell_type": "code",
   "execution_count": 109,
   "metadata": {
    "scrolled": true
   },
   "outputs": [
    {
     "name": "stdout",
     "output_type": "stream",
     "text": [
      "6 is not the largest one.\n",
      "Print the max_value\n",
      "    \n",
      "    The values must be integers.\n"
     ]
    }
   ],
   "source": [
    "print_max(6,8)\n",
    "print (print_max.__doc__)\n",
    "'''\n",
    "print_max함수내에 있는 DocString은 함수 doc속성을 통해 접근가능하다.\n",
    "doc은 함수 객체가 갖고있는 기본 속성\n",
    "'''"
   ]
  },
  {
   "cell_type": "markdown",
   "metadata": {},
   "source": [
    "9장. 모듈\n",
    "1. 모듈을 작성하는 방법\n",
    ": .py확장자를 가진 파일을 하나 만들고 그안에 함수들과 변수들을 정의"
   ]
  },
  {
   "cell_type": "markdown",
   "metadata": {},
   "source": [
    "* 함수는 여러 코드를 재사용하는 방법 \n",
    "* 모듈은 여러 함수를 재사용하는 방법"
   ]
  },
  {
   "cell_type": "code",
   "execution_count": 118,
   "metadata": {},
   "outputs": [
    {
     "name": "stdout",
     "output_type": "stream",
     "text": [
      "The command line arguments are: \n",
      "/opt/conda/lib/python3.6/site-packages/ipykernel_launcher.py\n",
      "-f\n",
      "/root/.local/share/jupyter/runtime/kernel-838b1e06-4d31-4e44-9cb1-dfa761d07f9b.json\n",
      "\n",
      "\n",
      "The PYTHONPATH is  ['', '/opt/conda/lib/python36.zip', '/opt/conda/lib/python3.6', '/opt/conda/lib/python3.6/lib-dynload', '/root/.local/lib/python3.6/site-packages', '/opt/conda/lib/python3.6/site-packages', '/opt/conda/lib/python3.6/site-packages/fasttext-0.8.22-py3.6-linux-x86_64.egg', '/opt/conda/lib/python3.6/site-packages/IPython/extensions', '/root/.ipython'] \n",
      "\n"
     ]
    }
   ],
   "source": [
    "#sys는 표준라이브러리 중 하나, sys모듈에는 파이썬 인터프리터와 인터프리터가 실행중인 환경(system)을 불러온다.\n",
    "import sys\n",
    "\n",
    "print(\"The command line arguments are: \")\n",
    "for i in sys.argv:\n",
    "    print (i)\n",
    "    \n",
    "print('\\n\\nThe PYTHONPATH is ', sys.path,'\\n')"
   ]
  },
  {
   "cell_type": "markdown",
   "metadata": {},
   "source": [
    "* import sys : sys라는 모듈을 import한다.\n",
    "<br> sys.path : sys모듈의 namespace에 담겨있는 name\n",
    "\n",
    "* from sys import path : sys라는 모듈에서 path라는 namespace를 직접 가져온다.\n",
    "<br>이렇게 하면 import이후에 지정한 name들은 sys. 이렇게 prefix를 지정하지 않고도 접근가능하다."
   ]
  },
  {
   "cell_type": "code",
   "execution_count": 115,
   "metadata": {
    "scrolled": true
   },
   "outputs": [
    {
     "data": {
      "text/plain": [
       "['/opt/conda/lib/python3.6/site-packages/ipykernel_launcher.py',\n",
       " '-f',\n",
       " '/root/.local/share/jupyter/runtime/kernel-838b1e06-4d31-4e44-9cb1-dfa761d07f9b.json']"
      ]
     },
     "execution_count": 115,
     "metadata": {},
     "output_type": "execute_result"
    }
   ],
   "source": [
    "#sys모듈의 argv변수들\n",
    "#명령줄로부터 프로그램을 실행시킬때 함께 넘어온 인수들을 담고 있다.\n",
    "sys.argv"
   ]
  },
  {
   "cell_type": "code",
   "execution_count": 116,
   "metadata": {
    "scrolled": true
   },
   "outputs": [
    {
     "data": {
      "text/plain": [
       "['',\n",
       " '/opt/conda/lib/python36.zip',\n",
       " '/opt/conda/lib/python3.6',\n",
       " '/opt/conda/lib/python3.6/lib-dynload',\n",
       " '/root/.local/lib/python3.6/site-packages',\n",
       " '/opt/conda/lib/python3.6/site-packages',\n",
       " '/opt/conda/lib/python3.6/site-packages/fasttext-0.8.22-py3.6-linux-x86_64.egg',\n",
       " '/opt/conda/lib/python3.6/site-packages/IPython/extensions',\n",
       " '/root/.ipython']"
      ]
     },
     "execution_count": 116,
     "metadata": {},
     "output_type": "execute_result"
    }
   ],
   "source": [
    "'''\n",
    "내장모듈이 아니고, 내가 직접 모듈을 .py로 만들었다면\n",
    "sys.path변수에 정의된 디렉토리들에 해당 모듈이 있는지 검색한다.'''\n",
    "\n",
    "sys.path\n",
    "#첫번째 항목이 공백 : 이는 현재 디렉토리를 의미한다.\n",
    "#현재 디렛토리또한 sys.path의 일부이다.\n"
   ]
  },
  {
   "cell_type": "code",
   "execution_count": 122,
   "metadata": {
    "scrolled": true
   },
   "outputs": [
    {
     "name": "stdout",
     "output_type": "stream",
     "text": [
      "/content/hikim\n"
     ]
    }
   ],
   "source": [
    "#현재 디렉토리 확인\n",
    "import os\n",
    "print (os.getcwd())"
   ]
  },
  {
   "cell_type": "markdown",
   "metadata": {},
   "source": [
    "### **********9장 모듈은 마지막에 다시!**************"
   ]
  },
  {
   "cell_type": "markdown",
   "metadata": {},
   "source": [
    "10장. 자료구조"
   ]
  },
  {
   "cell_type": "markdown",
   "metadata": {},
   "source": [
    "* list, tuple, dictionary\n",
    "* 집합"
   ]
  },
  {
   "cell_type": "markdown",
   "metadata": {},
   "source": [
    "#### 객체와 클래스\n",
    "만약 i라는 변수에 10을 넣는다면\n",
    "<br> i = 10\n",
    "<br> ==> int라는 클래스의 객체 i를 만드는 것이다.\n",
    "\n",
    "* 클래스는 매소드를 가질수 있다.\n",
    "<br> 매소드란? 그 클래스 내에 정의된 고유의 내장함수들\n",
    "<br> ex)\n",
    "<br> list 클래스에는 append라는 매소드가 있다.\n",
    "<br> a = list[1,5,6]\n",
    "<br>a.append(19)\n",
    "<br> \"객체의 매소드에 접근할때에도 마침표를 이용한다\"\n"
   ]
  },
  {
   "cell_type": "markdown",
   "metadata": {},
   "source": [
    "* 필드(field) : 클래스에 내장된 변수\n",
    "* 매소드(method) : 클래스에 속하는 함수\n",
    "* 속성(attribute) : 필드와 매쏘드를 통칭하는 말\n",
    "<br>\n",
    "출처 : https://studymake.tistory.com/235"
   ]
  },
  {
   "cell_type": "markdown",
   "metadata": {},
   "source": [
    "10.3 튜플"
   ]
  },
  {
   "cell_type": "markdown",
   "metadata": {},
   "source": [
    "튜플은 수정이 불가능하다.\n",
    "* 튜플을 묶는 괄호는 생략가능하다\n",
    "* 리스트 [ ]\n",
    "* 튜플 ( ) 생략가능\n",
    "* 사전 { : , : ,...}"
   ]
  },
  {
   "cell_type": "code",
   "execution_count": 123,
   "metadata": {},
   "outputs": [],
   "source": [
    "zoo = 'monkey','rabbit',5"
   ]
  },
  {
   "cell_type": "code",
   "execution_count": 127,
   "metadata": {},
   "outputs": [
    {
     "name": "stdout",
     "output_type": "stream",
     "text": [
      "<class 'tuple'> ('monkey', 'rabbit', 5)\n"
     ]
    }
   ],
   "source": [
    "print(type(zoo),zoo)"
   ]
  },
  {
   "cell_type": "code",
   "execution_count": 128,
   "metadata": {},
   "outputs": [],
   "source": [
    "#empty 튜플\n",
    "empty = ()"
   ]
  },
  {
   "cell_type": "code",
   "execution_count": 130,
   "metadata": {},
   "outputs": [
    {
     "data": {
      "text/plain": [
       "(tuple, ())"
      ]
     },
     "execution_count": 130,
     "metadata": {},
     "output_type": "execute_result"
    }
   ],
   "source": [
    "type(empty),empty"
   ]
  },
  {
   "cell_type": "code",
   "execution_count": 131,
   "metadata": {},
   "outputs": [],
   "source": [
    "# 하나짜리 튜플\n",
    "one = 2,"
   ]
  },
  {
   "cell_type": "code",
   "execution_count": 133,
   "metadata": {},
   "outputs": [
    {
     "data": {
      "text/plain": [
       "(tuple, (2,))"
      ]
     },
     "execution_count": 133,
     "metadata": {},
     "output_type": "execute_result"
    }
   ],
   "source": [
    "type(one),one"
   ]
  },
  {
   "cell_type": "code",
   "execution_count": 134,
   "metadata": {},
   "outputs": [],
   "source": [
    "one1 = (2,)"
   ]
  },
  {
   "cell_type": "code",
   "execution_count": 135,
   "metadata": {},
   "outputs": [
    {
     "data": {
      "text/plain": [
       "(tuple, (2,))"
      ]
     },
     "execution_count": 135,
     "metadata": {},
     "output_type": "execute_result"
    }
   ],
   "source": [
    "type(one1), one1"
   ]
  },
  {
   "cell_type": "markdown",
   "metadata": {},
   "source": [
    "10.4 사전(dictionary)"
   ]
  },
  {
   "cell_type": "markdown",
   "metadata": {},
   "source": [
    "key는 정적 객체여야 하고, bvalue는 정적,비정적 객체 모두 사용가능하다.\n",
    "<br>key로는 단순 객체만 사용가능하다.\n",
    "<br>\n",
    "* 정적객체란\n",
    "<br>: 자신이 생성된 시점부터 프로그램이 끝날 때 까지 살아있는 객체\n",
    "<br>\n",
    "* 비지역 정적객체"
   ]
  }
 ],
 "metadata": {
  "kernelspec": {
   "display_name": "Python 3",
   "language": "python",
   "name": "python3"
  },
  "language_info": {
   "codemirror_mode": {
    "name": "ipython",
    "version": 3
   },
   "file_extension": ".py",
   "mimetype": "text/x-python",
   "name": "python",
   "nbconvert_exporter": "python",
   "pygments_lexer": "ipython3",
   "version": "3.6.6"
  }
 },
 "nbformat": 4,
 "nbformat_minor": 2
}
